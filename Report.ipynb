{
 "cells": [
  {
   "cell_type": "code",
   "execution_count": 8,
   "metadata": {},
   "outputs": [],
   "source": [
    "from IPython.display import HTML\n",
    "import pandas as pd\n",
    "from datetime import datetime\n",
    "\n",
    "%matplotlib inline\n",
    "from matplotlib import pyplot as plt"
   ]
  },
  {
   "cell_type": "code",
   "execution_count": 6,
   "metadata": {},
   "outputs": [
    {
     "data": {
      "text/html": [
       "<script>\n",
       "code_show=true; \n",
       "function code_toggle() {\n",
       " if (code_show){\n",
       " $('div.input').hide();\n",
       " } else {\n",
       " $('div.input').show();\n",
       " }\n",
       " code_show = !code_show\n",
       "} \n",
       "$( document ).ready(code_toggle);\n",
       "</script>\n",
       "The raw code for this IPython notebook is by default hidden for easier reading.\n",
       "To toggle on/off the raw code, click <a href=\"javascript:code_toggle()\">here</a>."
      ],
      "text/plain": [
       "<IPython.core.display.HTML object>"
      ]
     },
     "execution_count": 6,
     "metadata": {},
     "output_type": "execute_result"
    }
   ],
   "source": [
    "HTML('''<script>\n",
    "code_show=true; \n",
    "function code_toggle() {\n",
    " if (code_show){\n",
    " $('div.input').hide();\n",
    " } else {\n",
    " $('div.input').show();\n",
    " }\n",
    " code_show = !code_show\n",
    "} \n",
    "$( document ).ready(code_toggle);\n",
    "</script>\n",
    "The raw code for this IPython notebook is by default hidden for easier reading.\n",
    "To toggle on/off the raw code, click <a href=\"javascript:code_toggle()\">here</a>.''')"
   ]
  },
  {
   "cell_type": "code",
   "execution_count": 15,
   "metadata": {
    "scrolled": false
   },
   "outputs": [
    {
     "name": "stdout",
     "output_type": "stream",
     "text": [
      "   day_number  retention\n",
      "0           0   0.943878\n",
      "1           1   0.285714\n",
      "2           2   0.147959\n",
      "3           3   0.091837\n",
      "4           4   0.091837\n",
      "5           5   0.081633\n",
      "6           6   0.061224\n",
      "7           7   0.056122\n",
      "   day_number  retention\n",
      "0           0   0.920792\n",
      "1           1   0.257426\n",
      "2           2   0.212871\n",
      "3           3   0.183168\n",
      "4           4   0.158416\n",
      "5           5   0.143564\n",
      "6           6   0.089109\n",
      "7           7   0.113861\n"
     ]
    }
   ],
   "source": [
    "df = pd.read_csv('data/telemetry.csv')\n",
    "df['timestamp'] = pd.to_datetime(df['timestamp'])\n",
    "\n",
    "version_A = df[df.game_version=='A']\n",
    "version_B = df[df.game_version=='B']\n",
    "\n",
    "total_users_A = len(pd.unique(version_A['user_id']))\n",
    "total_users_B = len(pd.unique(version_B['user_id']))\n",
    "\n",
    "level1_date_version_A = df[((df.event_name=='LevelStart')&((df.current_level==1)&(df.game_version=='A')))][['user_id', 'session_id','timestamp']]\n",
    "level1_date_version_B = df[((df.event_name=='LevelStart')&((df.current_level==1)&(df.game_version=='B')))][['user_id', 'session_id','timestamp']]\n",
    "\n",
    "\n",
    "level_starts_version_A = version_A[version_A.event_name=='LevelStart']\n",
    "level_starts_version_B = version_B[version_B.event_name=='LevelStart']\n",
    "\n",
    "level1_date_version_A['first_play_date'] = level1_date_version_A['timestamp'].apply(lambda x: datetime.date(x))\n",
    "level1_date_version_B['first_play_date'] = level1_date_version_B['timestamp'].apply(lambda x: datetime.date(x))\n",
    "\n",
    "level1_date_version_A = level1_date_version_A.groupby('user_id').min().reset_index()\n",
    "level1_date_version_B = level1_date_version_B.groupby('user_id').min().reset_index()\n",
    "\n",
    "level1_date_version_A.drop(['timestamp', 'session_id'], axis=1, inplace=True)\n",
    "level1_date_version_B.drop(['timestamp', 'session_id'], axis=1, inplace=True)\n",
    "\n",
    "retention_version_A = level_starts_version_A.merge(level1_date_version_A, on='user_id', how='inner')\n",
    "retention_version_B = level_starts_version_B.merge(level1_date_version_B, on='user_id', how='inner')\n",
    "\n",
    "retention_version_A['day_number'] = (retention_version_A['timestamp'].apply(lambda x: datetime.date(x)) - retention_version_A['first_play_date']).dt.days\n",
    "retention_version_B['day_number'] = (retention_version_B['timestamp'].apply(lambda x: datetime.date(x)) - retention_version_B['first_play_date']).dt.days\n",
    "\n",
    "#take a look at users who would have had a full 7 days only to unbias\n",
    "#retention_version_A = retention_version_A[retention_version_A.first_play_date<=datetime.strptime('2019-10-28', '%Y-%m-%d').date()]\n",
    "#retention_version_B = retention_version_B[retention_version_B.first_play_date<=datetime.strptime('2019-11-08', '%Y-%m-%d').date()]\n",
    "\n",
    "day_retention_A = retention_version_A.groupby('day_number')['user_id'].nunique().reset_index(name='retention')\n",
    "day_retention_A['retention'] = day_retention_A['retention']/total_users_A\n",
    "\n",
    "day_retention_B = retention_version_B.groupby('day_number')['user_id'].nunique().reset_index(name='retention')\n",
    "day_retention_B['retention'] = day_retention_B['retention']/total_users_B\n",
    "\n",
    "print(day_retention_A[:8])\n",
    "print(day_retention_B[:8])\n",
    "\n"
   ]
  },
  {
   "cell_type": "markdown",
   "metadata": {},
   "source": [
    "# High level summary\n",
    "\n",
    "Similar numbers of users installed either version A or version B of the game (198 for A, 188 for B). Overall, version B shows higher long term retention than A (up to 7 days). Engagement (sessions per user and level plays per user) was also higher. \n",
    "\n",
    "Monetization was lower for version B, but the time period users played for was also much shorter, so we can't make a like-for-like comparison. \n",
    "\n",
    "#### Recommendation: Chose version B."
   ]
  },
  {
   "cell_type": "markdown",
   "metadata": {},
   "source": [
    "### KPIs\n"
   ]
  },
  {
   "cell_type": "markdown",
   "metadata": {},
   "source": [
    "#### Daily Active Users"
   ]
  },
  {
   "cell_type": "markdown",
   "metadata": {},
   "source": [
    "#### Retention"
   ]
  },
  {
   "cell_type": "code",
   "execution_count": 21,
   "metadata": {},
   "outputs": [
    {
     "data": {
      "image/png": "[encoded data removed]",
      "text/plain": [
       "<Figure size 432x288 with 1 Axes>"
      ]
     },
     "metadata": {
      "needs_background": "light"
     },
     "output_type": "display_data"
    }
   ],
   "source": [
    "plt.plot(day_retention_A['day_number'][:8], day_retention_A['retention'][:8], label='version A')\n",
    "plt.plot(day_retention_B['day_number'][:8], day_retention_B['retention'][:8], label='version B')\n",
    "plt.legend()\n",
    "plt.xlabel('Days after install')\n",
    "plt.ylabel('Retention')\n",
    "plt.title('Retention Rates by Day')\n",
    "plt.show()"
   ]
  },
  {
   "cell_type": "markdown",
   "metadata": {},
   "source": [
    "\n",
    "\n",
    "### Next steps\n",
    "\n",
    "I would recommend following users in variant B for another 11 days so that the time window used to compare the two versions is equivalent. This will allow us to compare monetization rates over equivalent periods and see if there is a difference between the two versions. \n",
    "\n",
    "#### Telemetry improvements\n",
    "\n",
    "We could use some improvements to our tracking to better understand how users play the game: \n",
    "    - Enhanced purchase events. We currently only know how much players spend on currency and at what level, not what this money is spent on. What types of boosters are they buying? From this we could better tell if we're offering the right selection of boosters and which ones are most useful for which level. \n",
    "    - An event telling us when users uninstall the game from their phone. This would give a clear indication they are unhappy with the game and have completely stopped playing. "
   ]
  },
  {
   "cell_type": "code",
   "execution_count": null,
   "metadata": {},
   "outputs": [],
   "source": []
  }
 ],
 "metadata": {
  "kernelspec": {
   "display_name": "Python 3",
   "language": "python",
   "name": "python3"
  },
  "language_info": {
   "codemirror_mode": {
    "name": "ipython",
    "version": 3
   },
   "file_extension": ".py",
   "mimetype": "text/x-python",
   "name": "python",
   "nbconvert_exporter": "python",
   "pygments_lexer": "ipython3",
   "version": "3.7.4"
  }
 },
 "nbformat": 4,
 "nbformat_minor": 2
}
