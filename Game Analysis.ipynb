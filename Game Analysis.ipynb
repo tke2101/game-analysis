{
 "cells": [
  {
   "cell_type": "code",
   "execution_count": 2,
   "metadata": {},
   "outputs": [],
   "source": [
    "import pandas as pd\n",
    "from datetime import datetime\n",
    "\n",
    "%matplotlib inline\n",
    "from matplotlib import pyplot as plt"
   ]
  },
  {
   "cell_type": "code",
   "execution_count": 3,
   "metadata": {},
   "outputs": [],
   "source": [
    "df = pd.read_csv('data/telemetry.csv')"
   ]
  },
  {
   "cell_type": "code",
   "execution_count": 5,
   "metadata": {},
   "outputs": [],
   "source": [
    "df['timestamp'] = pd.to_datetime(df['timestamp'])"
   ]
  },
  {
   "cell_type": "code",
   "execution_count": 6,
   "metadata": {},
   "outputs": [
    {
     "data": {
      "text/plain": [
       "event_name\n",
       "FirstInstall          386\n",
       "IntroPlayed           188\n",
       "LevelEnd            12214\n",
       "LevelStart          12694\n",
       "PurchaseComplete       39\n",
       "dtype: int64"
      ]
     },
     "execution_count": 6,
     "metadata": {},
     "output_type": "execute_result"
    }
   ],
   "source": [
    "#What different types of events are there? \n",
    "df.groupby(df.event_name).size()"
   ]
  },
  {
   "cell_type": "code",
   "execution_count": 7,
   "metadata": {},
   "outputs": [
    {
     "name": "stdout",
     "output_type": "stream",
     "text": [
      "383\n"
     ]
    }
   ],
   "source": [
    "#number of distinct users, matches number of install events\n",
    "total_users = len(pd.unique(df['user_id']))\n",
    "print(total_users)"
   ]
  },
  {
   "cell_type": "code",
   "execution_count": 8,
   "metadata": {},
   "outputs": [
    {
     "name": "stdout",
     "output_type": "stream",
     "text": [
      "186\n"
     ]
    }
   ],
   "source": [
    "#total users where intro played\n",
    "users_intro = len(pd.unique(df[df.event_name=='IntroPlayed']['user_id']))\n",
    "print(users_intro)"
   ]
  },
  {
   "cell_type": "code",
   "execution_count": 9,
   "metadata": {},
   "outputs": [
    {
     "data": {
      "text/plain": [
       "game_version\n",
       "A    198\n",
       "B    188\n",
       "dtype: int64"
      ]
     },
     "execution_count": 9,
     "metadata": {},
     "output_type": "execute_result"
    }
   ],
   "source": [
    "df[df.event_name=='FirstInstall'].groupby('game_version').size()"
   ]
  },
  {
   "cell_type": "code",
   "execution_count": 10,
   "metadata": {},
   "outputs": [
    {
     "data": {
      "text/plain": [
       "game_version\n",
       "A    188\n",
       "dtype: int64"
      ]
     },
     "execution_count": 10,
     "metadata": {},
     "output_type": "execute_result"
    }
   ],
   "source": [
    "df[df.event_name=='IntroPlayed'].groupby('game_version').size()"
   ]
  },
  {
   "cell_type": "code",
   "execution_count": 11,
   "metadata": {},
   "outputs": [
    {
     "name": "stdout",
     "output_type": "stream",
     "text": [
      "371\n"
     ]
    }
   ],
   "source": [
    "#total users where level 1 played\n",
    "users_level1 = len(pd.unique(df[(df.event_name=='LevelStart')&(df.current_level==1)]['user_id']))\n",
    "print(users_level1)"
   ]
  },
  {
   "cell_type": "markdown",
   "metadata": {},
   "source": [
    "It looks like the intro only occured for version A. I wonder what's the purpose of the intro - does it help retention? Was it removed because numbers looked bad? \n"
   ]
  },
  {
   "cell_type": "markdown",
   "metadata": {},
   "source": [
    "### Retention"
   ]
  },
  {
   "cell_type": "code",
   "execution_count": 12,
   "metadata": {
    "scrolled": true
   },
   "outputs": [
    {
     "name": "stdout",
     "output_type": "stream",
     "text": [
      "11988\n",
      "13533\n",
      "2019-10-24 13:36:00\n",
      "2019-11-04 18:12:00\n",
      "2019-11-17 23:45:00\n",
      "2019-11-17 19:34:00\n",
      "2019-11-13 13:28:00\n",
      "2019-11-16 12:04:00\n"
     ]
    }
   ],
   "source": [
    "version_A = df[df.game_version=='A']\n",
    "version_B = df[df.game_version=='B']\n",
    "\n",
    "print(len(version_A))\n",
    "print(len(version_B))\n",
    "print(version_A.timestamp.min())\n",
    "print(version_B.timestamp.min())\n",
    "\n",
    "print(version_A.timestamp.max())\n",
    "print(version_B.timestamp.max())\n",
    "\n",
    "print(version_A[version_A.event_name=='FirstInstall'].timestamp.max())\n",
    "print(version_B[version_B.event_name=='FirstInstall'].timestamp.max())"
   ]
  },
  {
   "cell_type": "markdown",
   "metadata": {},
   "source": [
    "Version A was released on 10/24 and ran until 11/17. Version B was released on 11/04 and also ran until 11/17"
   ]
  },
  {
   "cell_type": "code",
   "execution_count": 13,
   "metadata": {},
   "outputs": [
    {
     "name": "stdout",
     "output_type": "stream",
     "text": [
      "dt\n",
      "2019-10-24     8\n",
      "2019-10-25    20\n",
      "2019-10-26    15\n",
      "2019-10-27    53\n",
      "2019-10-28    82\n",
      "2019-10-29     9\n",
      "2019-10-30     3\n",
      "2019-11-01     2\n",
      "2019-11-03     1\n",
      "2019-11-06     1\n",
      "2019-11-07     1\n",
      "2019-11-11     1\n",
      "2019-11-12     1\n",
      "2019-11-13     1\n",
      "dtype: int64\n",
      "dt\n",
      "2019-11-04     8\n",
      "2019-11-05    57\n",
      "2019-11-06    77\n",
      "2019-11-07    27\n",
      "2019-11-08     3\n",
      "2019-11-09     3\n",
      "2019-11-10     1\n",
      "2019-11-11     6\n",
      "2019-11-12     2\n",
      "2019-11-15     1\n",
      "2019-11-16     3\n",
      "dtype: int64\n"
     ]
    },
    {
     "name": "stderr",
     "output_type": "stream",
     "text": [
      "/Users/tatiaengelmore/.pyenv/versions/3.7.4/lib/python3.7/site-packages/ipykernel_launcher.py:2: SettingWithCopyWarning: \n",
      "A value is trying to be set on a copy of a slice from a DataFrame.\n",
      "Try using .loc[row_indexer,col_indexer] = value instead\n",
      "\n",
      "See the caveats in the documentation: http://pandas.pydata.org/pandas-docs/stable/user_guide/indexing.html#returning-a-view-versus-a-copy\n",
      "  \n",
      "/Users/tatiaengelmore/.pyenv/versions/3.7.4/lib/python3.7/site-packages/ipykernel_launcher.py:5: SettingWithCopyWarning: \n",
      "A value is trying to be set on a copy of a slice from a DataFrame.\n",
      "Try using .loc[row_indexer,col_indexer] = value instead\n",
      "\n",
      "See the caveats in the documentation: http://pandas.pydata.org/pandas-docs/stable/user_guide/indexing.html#returning-a-view-versus-a-copy\n",
      "  \"\"\"\n"
     ]
    }
   ],
   "source": [
    "install_date_A = version_A[version_A.event_name=='FirstInstall']\n",
    "install_date_A['dt'] = install_date_A['timestamp'].apply(lambda x: datetime.date(x))\n",
    "\n",
    "install_date_B = version_B[version_B.event_name=='FirstInstall']\n",
    "install_date_B['dt'] = install_date_B['timestamp'].apply(lambda x: datetime.date(x))\n",
    "\n",
    "print(install_date_A.groupby('dt').size())\n",
    "print(install_date_B.groupby('dt').size())"
   ]
  },
  {
   "cell_type": "code",
   "execution_count": 14,
   "metadata": {},
   "outputs": [],
   "source": [
    "#Calculate dates per user when first level played for each version\n",
    "#I chose this rather than install because it shows retention based on \n",
    "#the first day of actual play, not just downloading the app. \n",
    "#Then compare to level starts for that same user. Did they come back the next day?\n",
    "\n",
    "level1_date_version_A = version_A[((version_A.event_name=='LevelStart')&((version_A.current_level==1)))][['user_id', 'session_id','timestamp']]\n",
    "level1_date_version_B = version_B[((version_B.event_name=='LevelStart')&((version_B.current_level==1)))][['user_id', 'session_id','timestamp']]\n",
    "\n",
    "\n",
    "level_starts_version_A = version_A[version_A.event_name=='LevelStart']\n",
    "level_starts_version_B = version_B[version_B.event_name=='LevelStart']\n",
    "\n"
   ]
  },
  {
   "cell_type": "code",
   "execution_count": 15,
   "metadata": {
    "scrolled": false
   },
   "outputs": [
    {
     "data": {
      "text/html": [
       "<div>\n",
       "<style scoped>\n",
       "    .dataframe tbody tr th:only-of-type {\n",
       "        vertical-align: middle;\n",
       "    }\n",
       "\n",
       "    .dataframe tbody tr th {\n",
       "        vertical-align: top;\n",
       "    }\n",
       "\n",
       "    .dataframe thead th {\n",
       "        text-align: right;\n",
       "    }\n",
       "</style>\n",
       "<table border=\"1\" class=\"dataframe\">\n",
       "  <thead>\n",
       "    <tr style=\"text-align: right;\">\n",
       "      <th></th>\n",
       "      <th>user_id</th>\n",
       "      <th>session_id_x</th>\n",
       "      <th>timestamp_x</th>\n",
       "      <th>session_id_y</th>\n",
       "      <th>timestamp_y</th>\n",
       "    </tr>\n",
       "  </thead>\n",
       "  <tbody>\n",
       "  </tbody>\n",
       "</table>\n",
       "</div>"
      ],
      "text/plain": [
       "Empty DataFrame\n",
       "Columns: [user_id, session_id_x, timestamp_x, session_id_y, timestamp_y]\n",
       "Index: []"
      ]
     },
     "execution_count": 15,
     "metadata": {},
     "output_type": "execute_result"
    }
   ],
   "source": [
    "#Confirm users either only see one version while on level 1\n",
    "level1_date_version_A.merge(level1_date_version_B, on='user_id')"
   ]
  },
  {
   "cell_type": "code",
   "execution_count": 16,
   "metadata": {
    "scrolled": true
   },
   "outputs": [
    {
     "data": {
      "text/plain": [
       "15"
      ]
     },
     "execution_count": 16,
     "metadata": {},
     "output_type": "execute_result"
    }
   ],
   "source": [
    "len(pd.unique(version_A.merge(version_B, on='user_id')['user_id']))"
   ]
  },
  {
   "cell_type": "markdown",
   "metadata": {},
   "source": [
    "15 users see both versions at some point, so this isn't a clean division like in an AB test. I see users who install one version but start playing another version, so a bit of pollution in the results"
   ]
  },
  {
   "cell_type": "code",
   "execution_count": 17,
   "metadata": {
    "scrolled": true
   },
   "outputs": [],
   "source": [
    "level1_date_version_A['first_play_date'] = level1_date_version_A['timestamp'].apply(lambda x: datetime.date(x))\n",
    "level1_date_version_B['first_play_date'] = level1_date_version_B['timestamp'].apply(lambda x: datetime.date(x))\n",
    "\n",
    "\n",
    "#a couple users have duplicates of these events\n",
    "level1_date_version_A = level1_date_version_A.groupby('user_id').min().reset_index()\n",
    "level1_date_version_B = level1_date_version_B.groupby('user_id').min().reset_index()\n"
   ]
  },
  {
   "cell_type": "code",
   "execution_count": 18,
   "metadata": {
    "scrolled": true
   },
   "outputs": [],
   "source": [
    "level1_date_version_A.drop(['timestamp', 'session_id'], axis=1, inplace=True)\n",
    "level1_date_version_B.drop(['timestamp', 'session_id'], axis=1, inplace=True)\n"
   ]
  },
  {
   "cell_type": "code",
   "execution_count": 19,
   "metadata": {},
   "outputs": [
    {
     "data": {
      "text/plain": [
       "first_play_date\n",
       "2019-10-24     6\n",
       "2019-10-25    21\n",
       "2019-10-26    14\n",
       "2019-10-27    49\n",
       "2019-10-28    77\n",
       "2019-10-29     7\n",
       "2019-10-30     3\n",
       "2019-11-01     2\n",
       "2019-11-03     1\n",
       "2019-11-05     1\n",
       "2019-11-08     1\n",
       "2019-11-11     1\n",
       "2019-11-12     1\n",
       "2019-11-13     1\n",
       "dtype: int64"
      ]
     },
     "execution_count": 19,
     "metadata": {},
     "output_type": "execute_result"
    }
   ],
   "source": [
    "level1_date_version_A.groupby('first_play_date').size()"
   ]
  },
  {
   "cell_type": "code",
   "execution_count": 20,
   "metadata": {},
   "outputs": [
    {
     "data": {
      "text/plain": [
       "first_play_date\n",
       "2019-11-04     8\n",
       "2019-11-05    56\n",
       "2019-11-06    76\n",
       "2019-11-07    28\n",
       "2019-11-08     3\n",
       "2019-11-09     3\n",
       "2019-11-10     1\n",
       "2019-11-11     6\n",
       "2019-11-12     2\n",
       "2019-11-15     1\n",
       "2019-11-16     2\n",
       "dtype: int64"
      ]
     },
     "execution_count": 20,
     "metadata": {},
     "output_type": "execute_result"
    }
   ],
   "source": [
    "level1_date_version_B.groupby('first_play_date').size()"
   ]
  },
  {
   "cell_type": "code",
   "execution_count": 21,
   "metadata": {},
   "outputs": [],
   "source": [
    "retention_version_A = level_starts_version_A.merge(level1_date_version_A, on='user_id', how='inner')\n",
    "retention_version_B = level_starts_version_B.merge(level1_date_version_B, on='user_id', how='inner')"
   ]
  },
  {
   "cell_type": "code",
   "execution_count": 22,
   "metadata": {},
   "outputs": [],
   "source": [
    "retention_version_A['day_number'] = (retention_version_A['timestamp'].apply(lambda x: datetime.date(x)) - retention_version_A['first_play_date']).dt.days\n",
    "retention_version_B['day_number'] = (retention_version_B['timestamp'].apply(lambda x: datetime.date(x)) - retention_version_B['first_play_date']).dt.days\n"
   ]
  },
  {
   "cell_type": "code",
   "execution_count": 65,
   "metadata": {
    "scrolled": true
   },
   "outputs": [
    {
     "data": {
      "text/plain": [
       "3.3513513513513513"
      ]
     },
     "execution_count": 65,
     "metadata": {},
     "output_type": "execute_result"
    }
   ],
   "source": [
    "retention_version_A.groupby('user_id')['day_number'].max().mean()"
   ]
  },
  {
   "cell_type": "code",
   "execution_count": 66,
   "metadata": {},
   "outputs": [
    {
     "data": {
      "text/plain": [
       "2.6129032258064515"
      ]
     },
     "execution_count": 66,
     "metadata": {},
     "output_type": "execute_result"
    }
   ],
   "source": [
    "retention_version_B.groupby('user_id')['day_number'].max().mean()"
   ]
  },
  {
   "cell_type": "code",
   "execution_count": 24,
   "metadata": {},
   "outputs": [],
   "source": [
    "total_users_A = len(pd.unique(version_A['user_id']))\n",
    "total_users_B = len(pd.unique(version_B['user_id']))"
   ]
  },
  {
   "cell_type": "code",
   "execution_count": 25,
   "metadata": {
    "scrolled": true
   },
   "outputs": [
    {
     "name": "stdout",
     "output_type": "stream",
     "text": [
      "0.2857142857142857\n",
      "0.25742574257425743\n"
     ]
    }
   ],
   "source": [
    "day1_retention_version_A = len(pd.unique(retention_version_A[retention_version_A.day_number==1]['user_id']))/total_users_A\n",
    "day1_retention_version_B = len(pd.unique(retention_version_B[retention_version_B.day_number==1]['user_id']))/total_users_B\n",
    "\n",
    "print(day1_retention_version_A)\n",
    "print(day1_retention_version_B)"
   ]
  },
  {
   "cell_type": "code",
   "execution_count": 26,
   "metadata": {},
   "outputs": [
    {
     "name": "stdout",
     "output_type": "stream",
     "text": [
      "   day_number  retention\n",
      "0           0   0.943878\n",
      "1           1   0.285714\n",
      "2           2   0.147959\n",
      "3           3   0.091837\n",
      "4           4   0.091837\n",
      "5           5   0.081633\n",
      "6           6   0.061224\n",
      "7           7   0.056122\n",
      "   day_number  retention\n",
      "0           0   0.920792\n",
      "1           1   0.257426\n",
      "2           2   0.212871\n",
      "3           3   0.183168\n",
      "4           4   0.158416\n",
      "5           5   0.143564\n",
      "6           6   0.089109\n",
      "7           7   0.113861\n"
     ]
    }
   ],
   "source": [
    "day_retention_A = retention_version_A.groupby('day_number')['user_id'].nunique().reset_index(name='retention')\n",
    "day_retention_A['retention'] = day_retention_A['retention']/total_users_A\n",
    "\n",
    "day_retention_B = retention_version_B.groupby('day_number')['user_id'].nunique().reset_index(name='retention')\n",
    "day_retention_B['retention'] = day_retention_B['retention']/total_users_B\n",
    "\n",
    "print(day_retention_A[:8])\n",
    "print(day_retention_B[:8])"
   ]
  },
  {
   "cell_type": "markdown",
   "metadata": {},
   "source": [
    "Some users above didn't have any level starts after installing. Slightly higher for A, maybe effect of intro? Actually no, this difference isn't statistically significant (after plugging into R). "
   ]
  },
  {
   "cell_type": "markdown",
   "metadata": {},
   "source": [
    "** How many users in B installed early enough to even show retention over 7 days? This is going to be an underestimate of B's retention because some users installed less than 7 days before the end of this dataset.  "
   ]
  },
  {
   "cell_type": "code",
   "execution_count": 27,
   "metadata": {},
   "outputs": [
    {
     "name": "stdout",
     "output_type": "stream",
     "text": [
      "0.05612244897959184\n",
      "0.11386138613861387\n"
     ]
    }
   ],
   "source": [
    "day7_retention_version_A = len(pd.unique(retention_version_A[retention_version_A.day_number==7]['user_id']))/total_users_A\n",
    "day7_retention_version_B = len(pd.unique(retention_version_B[retention_version_B.day_number==7]['user_id']))/total_users_B\n",
    "\n",
    "print(day7_retention_version_A)\n",
    "print(day7_retention_version_B)"
   ]
  },
  {
   "cell_type": "markdown",
   "metadata": {},
   "source": [
    "Statistical significance is challenging here, but there's a clear trend: Group A has marginally better 1 day retention, but group B is better for longer term retention. "
   ]
  },
  {
   "cell_type": "code",
   "execution_count": 28,
   "metadata": {},
   "outputs": [
    {
     "name": "stdout",
     "output_type": "stream",
     "text": [
      "18.5\n",
      "20.20689655172414\n",
      "26.88888888888889\n"
     ]
    }
   ],
   "source": [
    "#What level did people get to on day 1 for each group? \n",
    "max_day_1_A = retention_version_A[((retention_version_A.day_number==1)&(retention_version_A.event_name=='LevelStart'))].groupby('user_id')['current_level'].max().reset_index(name='max_level')['max_level'].mean()\n",
    "max_day_2_A = retention_version_A[((retention_version_A.day_number==2)&(retention_version_A.event_name=='LevelStart'))].groupby('user_id')['current_level'].max().reset_index(name='max_level')['max_level'].mean()\n",
    "max_day_3_A = retention_version_A[((retention_version_A.day_number==3)&(retention_version_A.event_name=='LevelStart'))].groupby('user_id')['current_level'].max().reset_index(name='max_level')['max_level'].mean()\n",
    "\n",
    "print(max_day_1_A)\n",
    "print(max_day_2_A)\n",
    "print(max_day_3_A)"
   ]
  },
  {
   "cell_type": "code",
   "execution_count": 29,
   "metadata": {},
   "outputs": [
    {
     "name": "stdout",
     "output_type": "stream",
     "text": [
      "18.692307692307693\n",
      "26.093023255813954\n",
      "31.35135135135135\n"
     ]
    }
   ],
   "source": [
    "max_day_1_B = retention_version_B[((retention_version_B.day_number==1)&(retention_version_B.event_name=='LevelStart'))].groupby('user_id')['current_level'].max().reset_index(name='max_level')['max_level'].mean()\n",
    "max_day_2_B = retention_version_B[((retention_version_B.day_number==2)&(retention_version_B.event_name=='LevelStart'))].groupby('user_id')['current_level'].max().reset_index(name='max_level')['max_level'].mean()\n",
    "max_day_3_B = retention_version_B[((retention_version_B.day_number==3)&(retention_version_B.event_name=='LevelStart'))].groupby('user_id')['current_level'].max().reset_index(name='max_level')['max_level'].mean()\n",
    "\n",
    "\n",
    "print(max_day_1_B)\n",
    "print(max_day_2_B)\n",
    "print(max_day_3_B)"
   ]
  },
  {
   "cell_type": "markdown",
   "metadata": {},
   "source": [
    "People got about as far on day 1 in groups A and B, but started to diverge on day 2. "
   ]
  },
  {
   "cell_type": "code",
   "execution_count": 30,
   "metadata": {
    "scrolled": true
   },
   "outputs": [
    {
     "name": "stdout",
     "output_type": "stream",
     "text": [
      "   day_number  num_users\n",
      "0           0        185\n",
      "1           1         56\n",
      "2           2         29\n",
      "3           3         18\n",
      "4           4         18\n",
      "5           5         16\n",
      "6           6         12\n",
      "   day_number  num_users\n",
      "0           0        186\n",
      "1           1         52\n",
      "2           2         43\n",
      "3           3         37\n",
      "4           4         32\n",
      "5           5         29\n",
      "6           6         18\n"
     ]
    }
   ],
   "source": [
    "#plot number of users per version per day\n",
    "\n",
    "dau_A = retention_version_A.groupby('day_number').user_id.nunique().reset_index(name='num_users')\n",
    "dau_B = retention_version_B.groupby('day_number').user_id.nunique().reset_index(name='num_users')\n",
    "print(dau_A[:7])\n",
    "print(dau_B[:7])"
   ]
  },
  {
   "cell_type": "markdown",
   "metadata": {},
   "source": [
    "Take a look at sessions per day - is there a difference in engagement? "
   ]
  },
  {
   "cell_type": "code",
   "execution_count": 31,
   "metadata": {
    "scrolled": true
   },
   "outputs": [
    {
     "name": "stdout",
     "output_type": "stream",
     "text": [
      "   day_number  sessions  users  sessions_per_user\n",
      "0           0       340    185           1.837838\n",
      "1           1       171     56           3.053571\n",
      "2           2        71     29           2.448276\n",
      "3           3        52     18           2.888889\n",
      "4           4        56     18           3.111111\n",
      "5           5        51     16           3.187500\n",
      "6           6        49     12           4.083333\n",
      "   day_number  sessions  users  sessions_per_user\n",
      "0           0       358    186           1.924731\n",
      "1           1       167     52           3.211538\n",
      "2           2       206     43           4.790698\n",
      "3           3       126     37           3.405405\n",
      "4           4        96     32           3.000000\n",
      "5           5        84     29           2.896552\n",
      "6           6        63     18           3.500000\n"
     ]
    }
   ],
   "source": [
    "sessions_per_day_A = retention_version_A.groupby('day_number')[['session_id', 'user_id']].nunique().reset_index()\n",
    "sessions_per_day_B = retention_version_B.groupby('day_number')[['session_id', 'user_id']].nunique().reset_index()\n",
    "sessions_per_day_A.columns=['day_number', 'sessions', 'users']\n",
    "sessions_per_day_B.columns=['day_number', 'sessions', 'users']\n",
    "\n",
    "sessions_per_day_A['sessions_per_user'] = sessions_per_day_A['sessions']/sessions_per_day_A['users']\n",
    "sessions_per_day_B['sessions_per_user'] = sessions_per_day_B['sessions']/sessions_per_day_B['users']\n",
    "\n",
    "\n",
    "print(sessions_per_day_A[:7])\n",
    "print(sessions_per_day_B[:7])"
   ]
  },
  {
   "cell_type": "markdown",
   "metadata": {},
   "source": [
    "Why does engagement go up so much on day 2 for version B? "
   ]
  },
  {
   "cell_type": "code",
   "execution_count": 32,
   "metadata": {},
   "outputs": [
    {
     "name": "stdout",
     "output_type": "stream",
     "text": [
      "6.096938775510204\n",
      "7.034653465346534\n"
     ]
    }
   ],
   "source": [
    "print(len(pd.unique(version_A['session_id']))/total_users_A)\n",
    "print(len(pd.unique(version_B['session_id']))/total_users_B)"
   ]
  },
  {
   "cell_type": "markdown",
   "metadata": {},
   "source": [
    "There are more sessions per user overall for version B. "
   ]
  },
  {
   "cell_type": "code",
   "execution_count": null,
   "metadata": {},
   "outputs": [],
   "source": []
  },
  {
   "cell_type": "markdown",
   "metadata": {},
   "source": [
    "### Funnel"
   ]
  },
  {
   "cell_type": "markdown",
   "metadata": {},
   "source": [
    "Let's look at where users dropped off in each version. Were users getting stuck at some point in version A? "
   ]
  },
  {
   "cell_type": "code",
   "execution_count": 33,
   "metadata": {},
   "outputs": [],
   "source": [
    "#number of distinct users starting each level\n",
    "levels_A = version_A[version_A.event_name=='LevelStart'].groupby('current_level')['user_id'].nunique().reset_index(name='num_users_A')\n",
    "levels_B = version_B[version_B.event_name=='LevelStart'].groupby('current_level')['user_id'].nunique().reset_index(name='num_users_B')\n"
   ]
  },
  {
   "cell_type": "code",
   "execution_count": 34,
   "metadata": {},
   "outputs": [],
   "source": [
    "level_stats = levels_A.merge(levels_B, on='current_level')"
   ]
  },
  {
   "cell_type": "code",
   "execution_count": 35,
   "metadata": {},
   "outputs": [],
   "source": [
    "level_stats['dropoff_A'] = level_stats['num_users_A'].diff().fillna(0)/level_stats['num_users_A'].shift(periods=1)\n",
    "level_stats['dropoff_B'] = level_stats['num_users_B'].diff().fillna(0)/level_stats['num_users_B'].shift(periods=1)"
   ]
  },
  {
   "cell_type": "code",
   "execution_count": 68,
   "metadata": {},
   "outputs": [
    {
     "data": {
      "text/html": [
       "<div>\n",
       "<style scoped>\n",
       "    .dataframe tbody tr th:only-of-type {\n",
       "        vertical-align: middle;\n",
       "    }\n",
       "\n",
       "    .dataframe tbody tr th {\n",
       "        vertical-align: top;\n",
       "    }\n",
       "\n",
       "    .dataframe thead th {\n",
       "        text-align: right;\n",
       "    }\n",
       "</style>\n",
       "<table border=\"1\" class=\"dataframe\">\n",
       "  <thead>\n",
       "    <tr style=\"text-align: right;\">\n",
       "      <th></th>\n",
       "      <th>current_level</th>\n",
       "      <th>num_users_A</th>\n",
       "      <th>num_users_B</th>\n",
       "      <th>dropoff_A</th>\n",
       "      <th>dropoff_B</th>\n",
       "      <th>pass_rate_A</th>\n",
       "      <th>pass_rate_B</th>\n",
       "    </tr>\n",
       "  </thead>\n",
       "  <tbody>\n",
       "    <tr>\n",
       "      <th>10</th>\n",
       "      <td>11</td>\n",
       "      <td>75</td>\n",
       "      <td>80</td>\n",
       "      <td>-0.050633</td>\n",
       "      <td>-0.101124</td>\n",
       "      <td>0.393443</td>\n",
       "      <td>0.371287</td>\n",
       "    </tr>\n",
       "    <tr>\n",
       "      <th>11</th>\n",
       "      <td>12</td>\n",
       "      <td>67</td>\n",
       "      <td>72</td>\n",
       "      <td>-0.106667</td>\n",
       "      <td>-0.100000</td>\n",
       "      <td>0.945205</td>\n",
       "      <td>0.876543</td>\n",
       "    </tr>\n",
       "    <tr>\n",
       "      <th>12</th>\n",
       "      <td>13</td>\n",
       "      <td>67</td>\n",
       "      <td>71</td>\n",
       "      <td>0.000000</td>\n",
       "      <td>-0.013889</td>\n",
       "      <td>0.325123</td>\n",
       "      <td>0.316038</td>\n",
       "    </tr>\n",
       "    <tr>\n",
       "      <th>13</th>\n",
       "      <td>14</td>\n",
       "      <td>64</td>\n",
       "      <td>65</td>\n",
       "      <td>-0.044776</td>\n",
       "      <td>-0.084507</td>\n",
       "      <td>0.270270</td>\n",
       "      <td>0.344633</td>\n",
       "    </tr>\n",
       "    <tr>\n",
       "      <th>14</th>\n",
       "      <td>15</td>\n",
       "      <td>58</td>\n",
       "      <td>59</td>\n",
       "      <td>-0.093750</td>\n",
       "      <td>-0.092308</td>\n",
       "      <td>0.895522</td>\n",
       "      <td>0.797297</td>\n",
       "    </tr>\n",
       "    <tr>\n",
       "      <th>15</th>\n",
       "      <td>16</td>\n",
       "      <td>57</td>\n",
       "      <td>59</td>\n",
       "      <td>-0.017241</td>\n",
       "      <td>0.000000</td>\n",
       "      <td>0.662921</td>\n",
       "      <td>0.690476</td>\n",
       "    </tr>\n",
       "    <tr>\n",
       "      <th>16</th>\n",
       "      <td>17</td>\n",
       "      <td>57</td>\n",
       "      <td>56</td>\n",
       "      <td>0.000000</td>\n",
       "      <td>-0.050847</td>\n",
       "      <td>0.409722</td>\n",
       "      <td>0.394161</td>\n",
       "    </tr>\n",
       "    <tr>\n",
       "      <th>17</th>\n",
       "      <td>18</td>\n",
       "      <td>55</td>\n",
       "      <td>54</td>\n",
       "      <td>-0.035088</td>\n",
       "      <td>-0.035714</td>\n",
       "      <td>0.123967</td>\n",
       "      <td>0.158451</td>\n",
       "    </tr>\n",
       "    <tr>\n",
       "      <th>18</th>\n",
       "      <td>19</td>\n",
       "      <td>42</td>\n",
       "      <td>45</td>\n",
       "      <td>-0.236364</td>\n",
       "      <td>-0.166667</td>\n",
       "      <td>0.330769</td>\n",
       "      <td>0.411215</td>\n",
       "    </tr>\n",
       "    <tr>\n",
       "      <th>19</th>\n",
       "      <td>20</td>\n",
       "      <td>36</td>\n",
       "      <td>43</td>\n",
       "      <td>-0.142857</td>\n",
       "      <td>-0.044444</td>\n",
       "      <td>0.844444</td>\n",
       "      <td>0.900000</td>\n",
       "    </tr>\n",
       "    <tr>\n",
       "      <th>20</th>\n",
       "      <td>21</td>\n",
       "      <td>34</td>\n",
       "      <td>43</td>\n",
       "      <td>-0.055556</td>\n",
       "      <td>0.000000</td>\n",
       "      <td>0.573770</td>\n",
       "      <td>0.471910</td>\n",
       "    </tr>\n",
       "    <tr>\n",
       "      <th>21</th>\n",
       "      <td>22</td>\n",
       "      <td>34</td>\n",
       "      <td>42</td>\n",
       "      <td>0.000000</td>\n",
       "      <td>-0.023256</td>\n",
       "      <td>0.349515</td>\n",
       "      <td>0.383178</td>\n",
       "    </tr>\n",
       "    <tr>\n",
       "      <th>22</th>\n",
       "      <td>23</td>\n",
       "      <td>33</td>\n",
       "      <td>40</td>\n",
       "      <td>-0.029412</td>\n",
       "      <td>-0.047619</td>\n",
       "      <td>0.648148</td>\n",
       "      <td>0.640625</td>\n",
       "    </tr>\n",
       "    <tr>\n",
       "      <th>23</th>\n",
       "      <td>24</td>\n",
       "      <td>33</td>\n",
       "      <td>38</td>\n",
       "      <td>0.000000</td>\n",
       "      <td>-0.050000</td>\n",
       "      <td>0.921053</td>\n",
       "      <td>0.909091</td>\n",
       "    </tr>\n",
       "    <tr>\n",
       "      <th>24</th>\n",
       "      <td>25</td>\n",
       "      <td>32</td>\n",
       "      <td>37</td>\n",
       "      <td>-0.030303</td>\n",
       "      <td>-0.026316</td>\n",
       "      <td>0.426829</td>\n",
       "      <td>0.342342</td>\n",
       "    </tr>\n",
       "    <tr>\n",
       "      <th>25</th>\n",
       "      <td>26</td>\n",
       "      <td>32</td>\n",
       "      <td>36</td>\n",
       "      <td>0.000000</td>\n",
       "      <td>-0.027027</td>\n",
       "      <td>0.164835</td>\n",
       "      <td>0.116041</td>\n",
       "    </tr>\n",
       "    <tr>\n",
       "      <th>26</th>\n",
       "      <td>27</td>\n",
       "      <td>29</td>\n",
       "      <td>32</td>\n",
       "      <td>-0.093750</td>\n",
       "      <td>-0.111111</td>\n",
       "      <td>0.274510</td>\n",
       "      <td>0.248175</td>\n",
       "    </tr>\n",
       "    <tr>\n",
       "      <th>27</th>\n",
       "      <td>28</td>\n",
       "      <td>28</td>\n",
       "      <td>31</td>\n",
       "      <td>-0.034483</td>\n",
       "      <td>-0.031250</td>\n",
       "      <td>0.906250</td>\n",
       "      <td>0.911765</td>\n",
       "    </tr>\n",
       "    <tr>\n",
       "      <th>28</th>\n",
       "      <td>29</td>\n",
       "      <td>28</td>\n",
       "      <td>31</td>\n",
       "      <td>0.000000</td>\n",
       "      <td>0.000000</td>\n",
       "      <td>0.743590</td>\n",
       "      <td>0.750000</td>\n",
       "    </tr>\n",
       "    <tr>\n",
       "      <th>29</th>\n",
       "      <td>30</td>\n",
       "      <td>27</td>\n",
       "      <td>32</td>\n",
       "      <td>-0.035714</td>\n",
       "      <td>0.032258</td>\n",
       "      <td>0.642857</td>\n",
       "      <td>0.611111</td>\n",
       "    </tr>\n",
       "  </tbody>\n",
       "</table>\n",
       "</div>"
      ],
      "text/plain": [
       "    current_level  num_users_A  num_users_B  dropoff_A  dropoff_B  \\\n",
       "10             11           75           80  -0.050633  -0.101124   \n",
       "11             12           67           72  -0.106667  -0.100000   \n",
       "12             13           67           71   0.000000  -0.013889   \n",
       "13             14           64           65  -0.044776  -0.084507   \n",
       "14             15           58           59  -0.093750  -0.092308   \n",
       "15             16           57           59  -0.017241   0.000000   \n",
       "16             17           57           56   0.000000  -0.050847   \n",
       "17             18           55           54  -0.035088  -0.035714   \n",
       "18             19           42           45  -0.236364  -0.166667   \n",
       "19             20           36           43  -0.142857  -0.044444   \n",
       "20             21           34           43  -0.055556   0.000000   \n",
       "21             22           34           42   0.000000  -0.023256   \n",
       "22             23           33           40  -0.029412  -0.047619   \n",
       "23             24           33           38   0.000000  -0.050000   \n",
       "24             25           32           37  -0.030303  -0.026316   \n",
       "25             26           32           36   0.000000  -0.027027   \n",
       "26             27           29           32  -0.093750  -0.111111   \n",
       "27             28           28           31  -0.034483  -0.031250   \n",
       "28             29           28           31   0.000000   0.000000   \n",
       "29             30           27           32  -0.035714   0.032258   \n",
       "\n",
       "    pass_rate_A  pass_rate_B  \n",
       "10     0.393443     0.371287  \n",
       "11     0.945205     0.876543  \n",
       "12     0.325123     0.316038  \n",
       "13     0.270270     0.344633  \n",
       "14     0.895522     0.797297  \n",
       "15     0.662921     0.690476  \n",
       "16     0.409722     0.394161  \n",
       "17     0.123967     0.158451  \n",
       "18     0.330769     0.411215  \n",
       "19     0.844444     0.900000  \n",
       "20     0.573770     0.471910  \n",
       "21     0.349515     0.383178  \n",
       "22     0.648148     0.640625  \n",
       "23     0.921053     0.909091  \n",
       "24     0.426829     0.342342  \n",
       "25     0.164835     0.116041  \n",
       "26     0.274510     0.248175  \n",
       "27     0.906250     0.911765  \n",
       "28     0.743590     0.750000  \n",
       "29     0.642857     0.611111  "
      ]
     },
     "execution_count": 68,
     "metadata": {},
     "output_type": "execute_result"
    }
   ],
   "source": [
    "level_stats = level_stats.fillna(0)\n",
    "level_stats[10:30]"
   ]
  },
  {
   "cell_type": "markdown",
   "metadata": {},
   "source": [
    "Were the difficulty levels of 18 and 19 changed between version A and B? Compare level difficulties. "
   ]
  },
  {
   "cell_type": "code",
   "execution_count": 37,
   "metadata": {},
   "outputs": [
    {
     "name": "stdout",
     "output_type": "stream",
     "text": [
      "   current_level  starts  passes  fails  exits  pass_rate\n",
      "0              1     201     178    3.0    0.0   0.885572\n",
      "1              2     181     157   14.0    2.0   0.867403\n",
      "2              3     158     149    6.0    0.0   0.943038\n",
      "3              4     175     135   30.0    1.0   0.771429\n",
      "4              5     152     121   24.0    0.0   0.796053\n",
      "5              6     217     108   95.0    0.0   0.497696\n",
      "6              7     121      98    9.0    0.0   0.809917\n",
      "7              8      96      95    2.0    0.0   0.989583\n",
      "8              9     128      91   28.0    0.0   0.710938\n",
      "9             10     157      90   65.0    2.0   0.573248\n"
     ]
    }
   ],
   "source": [
    "level_starts_A = version_A[version_A.event_name=='LevelStart'].groupby('current_level').size().reset_index(name='starts')\n",
    "level_starts_B = version_B[version_B.event_name=='LevelStart'].groupby('current_level').size().reset_index(name='starts')\n",
    "\n",
    "level_passes_A = version_A[((version_A.event_name=='LevelEnd')&(version_A.level_end_outcome=='pass'))].groupby('current_level').size().reset_index(name='passes')\n",
    "level_fails_A = version_A[((version_A.event_name=='LevelEnd')&(version_A.level_end_outcome=='fail'))].groupby('current_level').size().reset_index(name='fails')\n",
    "level_exits_A = version_A[((version_A.event_name=='LevelEnd')&(version_A.level_end_outcome=='exit'))].groupby('current_level').size().reset_index(name='exits')\n",
    "\n",
    "level_passes_B = version_B[((version_B.event_name=='LevelEnd')&(version_B.level_end_outcome=='pass'))].groupby('current_level').size().reset_index(name='passes')\n",
    "level_fails_B = version_B[((version_B.event_name=='LevelEnd')&(version_B.level_end_outcome=='fail'))].groupby('current_level').size().reset_index(name='fails')\n",
    "level_exits_B = version_B[((version_B.event_name=='LevelEnd')&(version_B.level_end_outcome=='exit'))].groupby('current_level').size().reset_index(name='exits')\n",
    "\n",
    "\n",
    "difficulties_A = level_starts_A.merge(level_passes_A, how='left', on='current_level').merge(level_fails_A, how='left', on='current_level').merge(level_exits_A, how='left', on='current_level').fillna(0)\n",
    "difficulties_B = level_starts_B.merge(level_passes_B, how='left', on='current_level').merge(level_fails_B, how='left', on='current_level').merge(level_exits_B, how='left', on='current_level').fillna(0)\n",
    "\n",
    "difficulties_A['pass_rate'] = difficulties_A['passes']/difficulties_A['starts']\n",
    "difficulties_B['pass_rate'] = difficulties_B['passes']/difficulties_B['starts']\n",
    "\n",
    "\n",
    "print(difficulties_B[:10])\n"
   ]
  },
  {
   "cell_type": "code",
   "execution_count": 38,
   "metadata": {
    "scrolled": true
   },
   "outputs": [
    {
     "name": "stdout",
     "output_type": "stream",
     "text": [
      "level_end_outcome\n",
      "exit      32\n",
      "fail    3216\n",
      "pass    2415\n",
      "dtype: int64\n"
     ]
    }
   ],
   "source": [
    "print(version_A[version_A.event_name=='LevelEnd'].groupby('level_end_outcome').size())"
   ]
  },
  {
   "cell_type": "code",
   "execution_count": 39,
   "metadata": {},
   "outputs": [
    {
     "name": "stdout",
     "output_type": "stream",
     "text": [
      "180\n",
      "201\n"
     ]
    }
   ],
   "source": [
    "print(len(version_A[((version_A.event_name=='LevelEnd')&(version_A.current_level==1))]))\n",
    "print(len(version_A[((version_A.event_name=='LevelStart')&(version_A.current_level==1))]))"
   ]
  },
  {
   "cell_type": "code",
   "execution_count": 40,
   "metadata": {},
   "outputs": [],
   "source": [
    "level_stats['pass_rate_A'] = difficulties_A['pass_rate']\n",
    "level_stats['pass_rate_B'] = difficulties_B['pass_rate']"
   ]
  },
  {
   "cell_type": "code",
   "execution_count": 41,
   "metadata": {},
   "outputs": [
    {
     "data": {
      "image/png": "[encoded data removed]",
      "text/plain": [
       "<Figure size 432x288 with 1 Axes>"
      ]
     },
     "metadata": {
      "needs_background": "light"
     },
     "output_type": "display_data"
    }
   ],
   "source": [
    "plt.plot(level_stats['current_level'], level_stats['pass_rate_A'], label='version A')\n",
    "plt.plot(level_stats['current_level'], level_stats['pass_rate_B'], label='version B')\n",
    "plt.legend()\n",
    "plt.rcParams[\"figure.figsize\"] = (35,15)\n",
    "plt.rcParams['lines.linewidth'] = 4\n",
    "plt.rcParams['font.size'] = 24\n",
    "plt.show()\n"
   ]
  },
  {
   "cell_type": "code",
   "execution_count": 42,
   "metadata": {},
   "outputs": [
    {
     "data": {
      "text/html": [
       "<div>\n",
       "<style scoped>\n",
       "    .dataframe tbody tr th:only-of-type {\n",
       "        vertical-align: middle;\n",
       "    }\n",
       "\n",
       "    .dataframe tbody tr th {\n",
       "        vertical-align: top;\n",
       "    }\n",
       "\n",
       "    .dataframe thead th {\n",
       "        text-align: right;\n",
       "    }\n",
       "</style>\n",
       "<table border=\"1\" class=\"dataframe\">\n",
       "  <thead>\n",
       "    <tr style=\"text-align: right;\">\n",
       "      <th></th>\n",
       "      <th>current_level</th>\n",
       "      <th>num_users_A</th>\n",
       "      <th>num_users_B</th>\n",
       "      <th>dropoff_A</th>\n",
       "      <th>dropoff_B</th>\n",
       "      <th>pass_rate_A</th>\n",
       "      <th>pass_rate_B</th>\n",
       "    </tr>\n",
       "  </thead>\n",
       "  <tbody>\n",
       "    <tr>\n",
       "      <th>10</th>\n",
       "      <td>11</td>\n",
       "      <td>75</td>\n",
       "      <td>80</td>\n",
       "      <td>-0.050633</td>\n",
       "      <td>-0.101124</td>\n",
       "      <td>0.393443</td>\n",
       "      <td>0.371287</td>\n",
       "    </tr>\n",
       "    <tr>\n",
       "      <th>11</th>\n",
       "      <td>12</td>\n",
       "      <td>67</td>\n",
       "      <td>72</td>\n",
       "      <td>-0.106667</td>\n",
       "      <td>-0.100000</td>\n",
       "      <td>0.945205</td>\n",
       "      <td>0.876543</td>\n",
       "    </tr>\n",
       "    <tr>\n",
       "      <th>12</th>\n",
       "      <td>13</td>\n",
       "      <td>67</td>\n",
       "      <td>71</td>\n",
       "      <td>0.000000</td>\n",
       "      <td>-0.013889</td>\n",
       "      <td>0.325123</td>\n",
       "      <td>0.316038</td>\n",
       "    </tr>\n",
       "    <tr>\n",
       "      <th>13</th>\n",
       "      <td>14</td>\n",
       "      <td>64</td>\n",
       "      <td>65</td>\n",
       "      <td>-0.044776</td>\n",
       "      <td>-0.084507</td>\n",
       "      <td>0.270270</td>\n",
       "      <td>0.344633</td>\n",
       "    </tr>\n",
       "    <tr>\n",
       "      <th>14</th>\n",
       "      <td>15</td>\n",
       "      <td>58</td>\n",
       "      <td>59</td>\n",
       "      <td>-0.093750</td>\n",
       "      <td>-0.092308</td>\n",
       "      <td>0.895522</td>\n",
       "      <td>0.797297</td>\n",
       "    </tr>\n",
       "    <tr>\n",
       "      <th>15</th>\n",
       "      <td>16</td>\n",
       "      <td>57</td>\n",
       "      <td>59</td>\n",
       "      <td>-0.017241</td>\n",
       "      <td>0.000000</td>\n",
       "      <td>0.662921</td>\n",
       "      <td>0.690476</td>\n",
       "    </tr>\n",
       "    <tr>\n",
       "      <th>16</th>\n",
       "      <td>17</td>\n",
       "      <td>57</td>\n",
       "      <td>56</td>\n",
       "      <td>0.000000</td>\n",
       "      <td>-0.050847</td>\n",
       "      <td>0.409722</td>\n",
       "      <td>0.394161</td>\n",
       "    </tr>\n",
       "    <tr>\n",
       "      <th>17</th>\n",
       "      <td>18</td>\n",
       "      <td>55</td>\n",
       "      <td>54</td>\n",
       "      <td>-0.035088</td>\n",
       "      <td>-0.035714</td>\n",
       "      <td>0.123967</td>\n",
       "      <td>0.158451</td>\n",
       "    </tr>\n",
       "    <tr>\n",
       "      <th>18</th>\n",
       "      <td>19</td>\n",
       "      <td>42</td>\n",
       "      <td>45</td>\n",
       "      <td>-0.236364</td>\n",
       "      <td>-0.166667</td>\n",
       "      <td>0.330769</td>\n",
       "      <td>0.411215</td>\n",
       "    </tr>\n",
       "    <tr>\n",
       "      <th>19</th>\n",
       "      <td>20</td>\n",
       "      <td>36</td>\n",
       "      <td>43</td>\n",
       "      <td>-0.142857</td>\n",
       "      <td>-0.044444</td>\n",
       "      <td>0.844444</td>\n",
       "      <td>0.900000</td>\n",
       "    </tr>\n",
       "  </tbody>\n",
       "</table>\n",
       "</div>"
      ],
      "text/plain": [
       "    current_level  num_users_A  num_users_B  dropoff_A  dropoff_B  \\\n",
       "10             11           75           80  -0.050633  -0.101124   \n",
       "11             12           67           72  -0.106667  -0.100000   \n",
       "12             13           67           71   0.000000  -0.013889   \n",
       "13             14           64           65  -0.044776  -0.084507   \n",
       "14             15           58           59  -0.093750  -0.092308   \n",
       "15             16           57           59  -0.017241   0.000000   \n",
       "16             17           57           56   0.000000  -0.050847   \n",
       "17             18           55           54  -0.035088  -0.035714   \n",
       "18             19           42           45  -0.236364  -0.166667   \n",
       "19             20           36           43  -0.142857  -0.044444   \n",
       "\n",
       "    pass_rate_A  pass_rate_B  \n",
       "10     0.393443     0.371287  \n",
       "11     0.945205     0.876543  \n",
       "12     0.325123     0.316038  \n",
       "13     0.270270     0.344633  \n",
       "14     0.895522     0.797297  \n",
       "15     0.662921     0.690476  \n",
       "16     0.409722     0.394161  \n",
       "17     0.123967     0.158451  \n",
       "18     0.330769     0.411215  \n",
       "19     0.844444     0.900000  "
      ]
     },
     "execution_count": 42,
     "metadata": {},
     "output_type": "execute_result"
    }
   ],
   "source": [
    "level_stats[10:20]"
   ]
  },
  {
   "cell_type": "markdown",
   "metadata": {},
   "source": [
    "It looks like between version A and B, levels 18-20 were maybe a bit easier in B. This may have reduced the total dropoff that was happening at that point, and this likely improved longer term retention (beyond the first day). However, the effect is very small and definitely not significant. "
   ]
  },
  {
   "cell_type": "code",
   "execution_count": 43,
   "metadata": {
    "scrolled": true
   },
   "outputs": [],
   "source": [
    "max_level_A = version_A.groupby('user_id')['current_level'].max().reset_index(name='max_level')\n",
    "max_level_B = version_B.groupby('user_id')['current_level'].max().reset_index(name='max_level')\n"
   ]
  },
  {
   "cell_type": "code",
   "execution_count": 44,
   "metadata": {},
   "outputs": [
    {
     "name": "stdout",
     "output_type": "stream",
     "text": [
      "12.505102040816327\n",
      "15.727722772277227\n"
     ]
    }
   ],
   "source": [
    "mean_max_level_A = max_level_A['max_level'].mean()\n",
    "mean_max_level_B = max_level_B['max_level'].mean()\n",
    "\n",
    "print(mean_max_level_A)\n",
    "print(mean_max_level_B)"
   ]
  },
  {
   "cell_type": "code",
   "execution_count": 45,
   "metadata": {
    "scrolled": true
   },
   "outputs": [
    {
     "data": {
      "text/plain": [
       "65"
      ]
     },
     "execution_count": 45,
     "metadata": {},
     "output_type": "execute_result"
    }
   ],
   "source": [
    "#highest level reached\n",
    "df['current_level'].max()"
   ]
  },
  {
   "cell_type": "code",
   "execution_count": 46,
   "metadata": {},
   "outputs": [
    {
     "data": {
      "image/png": "[encoded data removed]",
      "text/plain": [
       "<Figure size 2520x1080 with 1 Axes>"
      ]
     },
     "metadata": {
      "needs_background": "light"
     },
     "output_type": "display_data"
    }
   ],
   "source": [
    "plt.hist(max_level_A['max_level'], bins=66)\n",
    "plt.show()"
   ]
  },
  {
   "cell_type": "code",
   "execution_count": 47,
   "metadata": {},
   "outputs": [
    {
     "data": {
      "image/png": "[encoded data removed]",
      "text/plain": [
       "<Figure size 2520x1080 with 1 Axes>"
      ]
     },
     "metadata": {
      "needs_background": "light"
     },
     "output_type": "display_data"
    }
   ],
   "source": [
    "plt.hist(max_level_B['max_level'], bins=66)\n",
    "plt.show()"
   ]
  },
  {
   "cell_type": "code",
   "execution_count": 48,
   "metadata": {
    "scrolled": true
   },
   "outputs": [
    {
     "data": {
      "text/html": [
       "<div>\n",
       "<style scoped>\n",
       "    .dataframe tbody tr th:only-of-type {\n",
       "        vertical-align: middle;\n",
       "    }\n",
       "\n",
       "    .dataframe tbody tr th {\n",
       "        vertical-align: top;\n",
       "    }\n",
       "\n",
       "    .dataframe thead th {\n",
       "        text-align: right;\n",
       "    }\n",
       "</style>\n",
       "<table border=\"1\" class=\"dataframe\">\n",
       "  <thead>\n",
       "    <tr style=\"text-align: right;\">\n",
       "      <th></th>\n",
       "      <th>max_level</th>\n",
       "      <th>level</th>\n",
       "    </tr>\n",
       "  </thead>\n",
       "  <tbody>\n",
       "    <tr>\n",
       "      <th>1</th>\n",
       "      <td>1</td>\n",
       "      <td>24</td>\n",
       "    </tr>\n",
       "    <tr>\n",
       "      <th>4</th>\n",
       "      <td>4</td>\n",
       "      <td>17</td>\n",
       "    </tr>\n",
       "    <tr>\n",
       "      <th>6</th>\n",
       "      <td>6</td>\n",
       "      <td>16</td>\n",
       "    </tr>\n",
       "    <tr>\n",
       "      <th>2</th>\n",
       "      <td>2</td>\n",
       "      <td>15</td>\n",
       "    </tr>\n",
       "    <tr>\n",
       "      <th>17</th>\n",
       "      <td>18</td>\n",
       "      <td>10</td>\n",
       "    </tr>\n",
       "    <tr>\n",
       "      <th>11</th>\n",
       "      <td>11</td>\n",
       "      <td>9</td>\n",
       "    </tr>\n",
       "    <tr>\n",
       "      <th>10</th>\n",
       "      <td>10</td>\n",
       "      <td>9</td>\n",
       "    </tr>\n",
       "    <tr>\n",
       "      <th>5</th>\n",
       "      <td>5</td>\n",
       "      <td>9</td>\n",
       "    </tr>\n",
       "    <tr>\n",
       "      <th>3</th>\n",
       "      <td>3</td>\n",
       "      <td>8</td>\n",
       "    </tr>\n",
       "    <tr>\n",
       "      <th>7</th>\n",
       "      <td>7</td>\n",
       "      <td>7</td>\n",
       "    </tr>\n",
       "  </tbody>\n",
       "</table>\n",
       "</div>"
      ],
      "text/plain": [
       "    max_level  level\n",
       "1           1     24\n",
       "4           4     17\n",
       "6           6     16\n",
       "2           2     15\n",
       "17         18     10\n",
       "11         11      9\n",
       "10         10      9\n",
       "5           5      9\n",
       "3           3      8\n",
       "7           7      7"
      ]
     },
     "execution_count": 48,
     "metadata": {},
     "output_type": "execute_result"
    }
   ],
   "source": [
    "max_level_B.groupby('max_level').size().reset_index(name='level').sort_values(by='level', ascending=False)[:10]"
   ]
  },
  {
   "cell_type": "code",
   "execution_count": 49,
   "metadata": {
    "scrolled": true
   },
   "outputs": [
    {
     "data": {
      "text/html": [
       "<div>\n",
       "<style scoped>\n",
       "    .dataframe tbody tr th:only-of-type {\n",
       "        vertical-align: middle;\n",
       "    }\n",
       "\n",
       "    .dataframe tbody tr th {\n",
       "        vertical-align: top;\n",
       "    }\n",
       "\n",
       "    .dataframe thead th {\n",
       "        text-align: right;\n",
       "    }\n",
       "</style>\n",
       "<table border=\"1\" class=\"dataframe\">\n",
       "  <thead>\n",
       "    <tr style=\"text-align: right;\">\n",
       "      <th></th>\n",
       "      <th>max_level</th>\n",
       "      <th>level</th>\n",
       "    </tr>\n",
       "  </thead>\n",
       "  <tbody>\n",
       "    <tr>\n",
       "      <th>1</th>\n",
       "      <td>1</td>\n",
       "      <td>35</td>\n",
       "    </tr>\n",
       "    <tr>\n",
       "      <th>2</th>\n",
       "      <td>2</td>\n",
       "      <td>20</td>\n",
       "    </tr>\n",
       "    <tr>\n",
       "      <th>3</th>\n",
       "      <td>3</td>\n",
       "      <td>14</td>\n",
       "    </tr>\n",
       "    <tr>\n",
       "      <th>4</th>\n",
       "      <td>4</td>\n",
       "      <td>14</td>\n",
       "    </tr>\n",
       "    <tr>\n",
       "      <th>16</th>\n",
       "      <td>18</td>\n",
       "      <td>13</td>\n",
       "    </tr>\n",
       "    <tr>\n",
       "      <th>0</th>\n",
       "      <td>0</td>\n",
       "      <td>10</td>\n",
       "    </tr>\n",
       "    <tr>\n",
       "      <th>7</th>\n",
       "      <td>7</td>\n",
       "      <td>9</td>\n",
       "    </tr>\n",
       "    <tr>\n",
       "      <th>6</th>\n",
       "      <td>6</td>\n",
       "      <td>8</td>\n",
       "    </tr>\n",
       "    <tr>\n",
       "      <th>11</th>\n",
       "      <td>11</td>\n",
       "      <td>8</td>\n",
       "    </tr>\n",
       "    <tr>\n",
       "      <th>13</th>\n",
       "      <td>14</td>\n",
       "      <td>6</td>\n",
       "    </tr>\n",
       "  </tbody>\n",
       "</table>\n",
       "</div>"
      ],
      "text/plain": [
       "    max_level  level\n",
       "1           1     35\n",
       "2           2     20\n",
       "3           3     14\n",
       "4           4     14\n",
       "16         18     13\n",
       "0           0     10\n",
       "7           7      9\n",
       "6           6      8\n",
       "11         11      8\n",
       "13         14      6"
      ]
     },
     "execution_count": 49,
     "metadata": {},
     "output_type": "execute_result"
    }
   ],
   "source": [
    "max_level_A.groupby('max_level').size().reset_index(name='level').sort_values(by='level', ascending=False)[:10]"
   ]
  },
  {
   "cell_type": "markdown",
   "metadata": {},
   "source": [
    "What are the pass rates by level for version A vs. B? "
   ]
  },
  {
   "cell_type": "markdown",
   "metadata": {},
   "source": [
    "### Purchase Events\n",
    "How many players make a purchase, for how much, and what leads them to start spending money? "
   ]
  },
  {
   "cell_type": "code",
   "execution_count": 50,
   "metadata": {},
   "outputs": [
    {
     "name": "stdout",
     "output_type": "stream",
     "text": [
      "17\n",
      "0.08673469387755102\n",
      "14\n",
      "0.06930693069306931\n"
     ]
    }
   ],
   "source": [
    "#How many have paid?\n",
    "payers_A = len(pd.unique(version_A[version_A.event_name=='PurchaseComplete']['user_id']))\n",
    "frac_payers_A = payers_A/total_users_A\n",
    "\n",
    "payers_B = len(pd.unique(version_B[version_B.event_name=='PurchaseComplete']['user_id']))\n",
    "frac_payers_B = payers_B/total_users_B\n",
    "\n",
    "print(payers_A)\n",
    "print(frac_payers_A)\n",
    "\n",
    "print(payers_B)\n",
    "print(frac_payers_B)"
   ]
  },
  {
   "cell_type": "markdown",
   "metadata": {},
   "source": [
    "We have 31 paying users, or 8.1% of the total"
   ]
  },
  {
   "cell_type": "code",
   "execution_count": 51,
   "metadata": {},
   "outputs": [
    {
     "name": "stdout",
     "output_type": "stream",
     "text": [
      "150.0\n",
      "50.0\n"
     ]
    }
   ],
   "source": [
    "#Total amount spent\n",
    "total_spend_A = version_A[version_A.iap_value.notnull()]['iap_value'].sum()\n",
    "total_spend_B = version_B[version_B.iap_value.notnull()]['iap_value'].sum()\n",
    "\n",
    "print(total_spend_A)\n",
    "print(total_spend_B)"
   ]
  },
  {
   "cell_type": "markdown",
   "metadata": {},
   "source": [
    "We've made $200! Now let's calculate the ARPU and ARPPU"
   ]
  },
  {
   "cell_type": "code",
   "execution_count": 52,
   "metadata": {},
   "outputs": [
    {
     "name": "stdout",
     "output_type": "stream",
     "text": [
      "0.7653061224489796\n",
      "8.823529411764707\n",
      "0.24752475247524752\n",
      "3.5714285714285716\n"
     ]
    }
   ],
   "source": [
    "arpu_A = total_spend_A/total_users_A\n",
    "arppu_A = total_spend_A/payers_A\n",
    "\n",
    "arpu_B = total_spend_B/total_users_B\n",
    "arppu_B = total_spend_B/payers_B\n",
    "\n",
    "print(arpu_A)\n",
    "print(arppu_A)\n",
    "\n",
    "print(arpu_B)\n",
    "print(arppu_B)"
   ]
  },
  {
   "cell_type": "markdown",
   "metadata": {},
   "source": [
    "Let's also look at the distribution of spend and see if we can identify any whales. "
   ]
  },
  {
   "cell_type": "code",
   "execution_count": 53,
   "metadata": {},
   "outputs": [
    {
     "name": "stdout",
     "output_type": "stream",
     "text": [
      "2.0\n"
     ]
    },
    {
     "data": {
      "text/plain": [
       "user_id\n",
       "2EE0CF20920B3D95    20.0\n",
       "B9AB38CED8FD4ECA    20.0\n",
       "F498B4A28D85B55B    20.0\n",
       "F760471386212A06    70.0\n",
       "Name: iap_value, dtype: float64"
      ]
     },
     "execution_count": 53,
     "metadata": {},
     "output_type": "execute_result"
    }
   ],
   "source": [
    "median_spend = df[df.iap_value.notnull()]['iap_value'].median()\n",
    "print(median_spend)\n",
    "df[((df.iap_value.notnull())&(df.iap_value>3*median_spend))].groupby('user_id')['iap_value'].sum()"
   ]
  },
  {
   "cell_type": "code",
   "execution_count": 54,
   "metadata": {},
   "outputs": [
    {
     "data": {
      "text/html": [
       "<div>\n",
       "<style scoped>\n",
       "    .dataframe tbody tr th:only-of-type {\n",
       "        vertical-align: middle;\n",
       "    }\n",
       "\n",
       "    .dataframe tbody tr th {\n",
       "        vertical-align: top;\n",
       "    }\n",
       "\n",
       "    .dataframe thead th {\n",
       "        text-align: right;\n",
       "    }\n",
       "</style>\n",
       "<table border=\"1\" class=\"dataframe\">\n",
       "  <thead>\n",
       "    <tr style=\"text-align: right;\">\n",
       "      <th></th>\n",
       "      <th>user_id</th>\n",
       "      <th>event_name</th>\n",
       "      <th>timestamp</th>\n",
       "      <th>game_version</th>\n",
       "      <th>session_id</th>\n",
       "      <th>current_level</th>\n",
       "      <th>level_end_outcome</th>\n",
       "      <th>iap_value</th>\n",
       "    </tr>\n",
       "  </thead>\n",
       "  <tbody>\n",
       "    <tr>\n",
       "      <th>25205</th>\n",
       "      <td>F760471386212A06</td>\n",
       "      <td>PurchaseComplete</td>\n",
       "      <td>2019-10-30 16:28:00</td>\n",
       "      <td>A</td>\n",
       "      <td>0b3ea8ee-0ca4-4990-83d4-61095c89b118</td>\n",
       "      <td>42</td>\n",
       "      <td>NaN</td>\n",
       "      <td>70.0</td>\n",
       "    </tr>\n",
       "  </tbody>\n",
       "</table>\n",
       "</div>"
      ],
      "text/plain": [
       "                user_id        event_name           timestamp game_version  \\\n",
       "25205  F760471386212A06  PurchaseComplete 2019-10-30 16:28:00            A   \n",
       "\n",
       "                                 session_id  current_level level_end_outcome  \\\n",
       "25205  0b3ea8ee-0ca4-4990-83d4-61095c89b118             42               NaN   \n",
       "\n",
       "       iap_value  \n",
       "25205       70.0  "
      ]
     },
     "execution_count": 54,
     "metadata": {},
     "output_type": "execute_result"
    }
   ],
   "source": [
    "#How many purchases for our whale, F760471386212A06?\n",
    "df[((df.user_id=='F760471386212A06')&(df.iap_value.notnull()))]"
   ]
  },
  {
   "cell_type": "code",
   "execution_count": 55,
   "metadata": {},
   "outputs": [
    {
     "name": "stdout",
     "output_type": "stream",
     "text": [
      "2019-11-17 23:45:00\n",
      "2019-10-24 13:36:00\n"
     ]
    }
   ],
   "source": [
    "max_dt = df.timestamp.max()\n",
    "min_dt = df.timestamp.min()\n",
    "print(max_dt)\n",
    "print(min_dt)"
   ]
  },
  {
   "cell_type": "code",
   "execution_count": 56,
   "metadata": {},
   "outputs": [
    {
     "name": "stdout",
     "output_type": "stream",
     "text": [
      "150.0\n",
      "50.0\n"
     ]
    }
   ],
   "source": [
    "#How much spend occured by version? \n",
    "versionA_spend = version_A[version_A.iap_value.notnull()]['iap_value'].sum()\n",
    "versionB_spend = version_B[version_B.iap_value.notnull()]['iap_value'].sum()\n",
    "\n",
    "print(versionA_spend)\n",
    "print(versionB_spend)"
   ]
  },
  {
   "cell_type": "code",
   "execution_count": 74,
   "metadata": {},
   "outputs": [
    {
     "name": "stdout",
     "output_type": "stream",
     "text": [
      "80.0\n",
      "0.41025641025641024\n",
      "5.0\n"
     ]
    }
   ],
   "source": [
    "#removing the whale in A\n",
    "\n",
    "total_spend_A_dewhaled = version_A[((version_A.iap_value.notnull())&(version_A.user_id != \"F760471386212A06\"))]['iap_value'].sum()\n",
    "print(total_spend_A_dewhaled)\n",
    "#now 16 payers left, total spend = 80\n",
    "\n",
    "arpu_A_dewhaled = total_spend_A_dewhaled/(total_users_A-1)\n",
    "print(arpu_A_dewhaled)\n",
    "arppu_A_dewhaled = total_spend_A_dewhaled/16\n",
    "print(arppu_A_dewhaled)"
   ]
  },
  {
   "cell_type": "markdown",
   "metadata": {},
   "source": [
    "More was spent on version A, but this isn't surprising - users had a lot longer time in version A, so more chance to spend money"
   ]
  },
  {
   "cell_type": "code",
   "execution_count": 57,
   "metadata": {},
   "outputs": [
    {
     "name": "stdout",
     "output_type": "stream",
     "text": [
      "    current_level  total_spend\n",
      "0              11          6.0\n",
      "1              12          2.0\n",
      "2              13         22.0\n",
      "3              14          6.0\n",
      "4              17          2.0\n",
      "5              18          2.0\n",
      "6              19          2.0\n",
      "7              23          2.0\n",
      "8              27          2.0\n",
      "9              34          2.0\n",
      "10             42         70.0\n",
      "11             44          2.0\n",
      "12             49          2.0\n",
      "13             53         22.0\n",
      "14             54          2.0\n",
      "15             58          2.0\n",
      "16             59          2.0\n",
      "    current_level  total_spend\n",
      "0              16          2.0\n",
      "1              17          6.0\n",
      "2              18          2.0\n",
      "3              30          2.0\n",
      "4              34          2.0\n",
      "5              40          2.0\n",
      "6              42         20.0\n",
      "7              43          2.0\n",
      "8              44          4.0\n",
      "9              45          2.0\n",
      "10             48          2.0\n",
      "11             53          2.0\n",
      "12             55          2.0\n"
     ]
    }
   ],
   "source": [
    "#What level did purchases happen on? \n",
    "#Make a histogram of purchase \n",
    "purchase_levels_A = version_A[version_A.event_name=='PurchaseComplete'].groupby('current_level')['iap_value'].sum().reset_index(name='total_spend')\n",
    "purchase_levels_B = version_B[version_B.event_name=='PurchaseComplete'].groupby('current_level')['iap_value'].sum().reset_index(name='total_spend')\n",
    "\n",
    "\n",
    "print(purchase_levels_A)\n",
    "print(purchase_levels_B)"
   ]
  },
  {
   "cell_type": "markdown",
   "metadata": {},
   "source": [
    "See large amount of spend (from one user?) on level 42 for both variants. \n",
    "No spend before level 16 in variant B - did this contribute to retention somehow? Lower retention early on without any spend, then higher retention later on with spending. When are purchases introduced in the game? First hard levels are 11, 13 and 14. Maybe users frustrated if they're not offered the ability to spend then?  It would be useful to know when in game purchases are introduced. "
   ]
  },
  {
   "cell_type": "code",
   "execution_count": 58,
   "metadata": {},
   "outputs": [
    {
     "data": {
      "text/plain": [
       "array([ 2., 20., 70.])"
      ]
     },
     "execution_count": 58,
     "metadata": {},
     "output_type": "execute_result"
    }
   ],
   "source": [
    "pd.unique(version_A[version_A.event_name=='PurchaseComplete']['iap_value'])"
   ]
  },
  {
   "cell_type": "code",
   "execution_count": 59,
   "metadata": {},
   "outputs": [
    {
     "data": {
      "text/plain": [
       "array([ 2., 20.])"
      ]
     },
     "execution_count": 59,
     "metadata": {},
     "output_type": "execute_result"
    }
   ],
   "source": [
    "pd.unique(version_B[version_B.event_name=='PurchaseComplete']['iap_value'])"
   ]
  },
  {
   "cell_type": "code",
   "execution_count": 60,
   "metadata": {},
   "outputs": [
    {
     "name": "stdout",
     "output_type": "stream",
     "text": [
      "7.130434782608695\n",
      "3.9375\n"
     ]
    }
   ],
   "source": [
    "#What day do these purchases happen? \n",
    "payments_A = version_A[version_A.iap_value.notnull()][['user_id', 'iap_value', 'current_level', 'timestamp']]\n",
    "payments_A = payments_A.merge(level1_date_version_A, on='user_id')\n",
    "\n",
    "payments_B = version_B[version_B.iap_value.notnull()][['user_id', 'iap_value', 'current_level', 'timestamp']]\n",
    "payments_B = payments_B.merge(level1_date_version_B, on='user_id')\n",
    "\n",
    "payments_A['day_number'] = (payments_A['timestamp'].apply(lambda x: datetime.date(x)) - payments_A['first_play_date']).dt.days\n",
    "payments_B['day_number'] = (payments_B['timestamp'].apply(lambda x: datetime.date(x)) - payments_B['first_play_date']).dt.days\n",
    "\n",
    "print(payments_A['day_number'].mean())\n",
    "print(payments_B['day_number'].mean())\n",
    "\n"
   ]
  },
  {
   "cell_type": "code",
   "execution_count": 61,
   "metadata": {},
   "outputs": [
    {
     "data": {
      "image/png": "[encoded data removed]",
      "text/plain": [
       "<Figure size 2520x1080 with 1 Axes>"
      ]
     },
     "metadata": {
      "needs_background": "light"
     },
     "output_type": "display_data"
    }
   ],
   "source": [
    "plt.hist(payments_A['day_number'], bins=21)\n",
    "plt.show()"
   ]
  },
  {
   "cell_type": "code",
   "execution_count": 62,
   "metadata": {},
   "outputs": [
    {
     "data": {
      "image/png": "[encoded data removed]",
      "text/plain": [
       "<Figure size 2520x1080 with 1 Axes>"
      ]
     },
     "metadata": {
      "needs_background": "light"
     },
     "output_type": "display_data"
    }
   ],
   "source": [
    "plt.hist(payments_B['day_number'], bins=11)\n",
    "plt.show()"
   ]
  },
  {
   "cell_type": "code",
   "execution_count": 63,
   "metadata": {},
   "outputs": [
    {
     "data": {
      "text/html": [
       "<div>\n",
       "<style scoped>\n",
       "    .dataframe tbody tr th:only-of-type {\n",
       "        vertical-align: middle;\n",
       "    }\n",
       "\n",
       "    .dataframe tbody tr th {\n",
       "        vertical-align: top;\n",
       "    }\n",
       "\n",
       "    .dataframe thead th {\n",
       "        text-align: right;\n",
       "    }\n",
       "</style>\n",
       "<table border=\"1\" class=\"dataframe\">\n",
       "  <thead>\n",
       "    <tr style=\"text-align: right;\">\n",
       "      <th></th>\n",
       "      <th>user_id</th>\n",
       "      <th>iap_value</th>\n",
       "      <th>current_level</th>\n",
       "      <th>timestamp</th>\n",
       "      <th>first_play_date</th>\n",
       "      <th>day_number</th>\n",
       "    </tr>\n",
       "  </thead>\n",
       "  <tbody>\n",
       "    <tr>\n",
       "      <th>1</th>\n",
       "      <td>38A4BC9A7B4B713F</td>\n",
       "      <td>2.0</td>\n",
       "      <td>13</td>\n",
       "      <td>2019-10-27 06:28:00</td>\n",
       "      <td>2019-10-27</td>\n",
       "      <td>0</td>\n",
       "    </tr>\n",
       "    <tr>\n",
       "      <th>2</th>\n",
       "      <td>2EE0CF20920B3D95</td>\n",
       "      <td>20.0</td>\n",
       "      <td>13</td>\n",
       "      <td>2019-10-29 12:56:00</td>\n",
       "      <td>2019-10-29</td>\n",
       "      <td>0</td>\n",
       "    </tr>\n",
       "    <tr>\n",
       "      <th>14</th>\n",
       "      <td>ECC3E3A2FECAA733</td>\n",
       "      <td>2.0</td>\n",
       "      <td>11</td>\n",
       "      <td>2019-10-27 03:30:00</td>\n",
       "      <td>2019-10-27</td>\n",
       "      <td>0</td>\n",
       "    </tr>\n",
       "    <tr>\n",
       "      <th>12</th>\n",
       "      <td>CEDBE9F0D13B79</td>\n",
       "      <td>2.0</td>\n",
       "      <td>12</td>\n",
       "      <td>2019-10-27 12:02:00</td>\n",
       "      <td>2019-10-27</td>\n",
       "      <td>0</td>\n",
       "    </tr>\n",
       "    <tr>\n",
       "      <th>10</th>\n",
       "      <td>174325D74F4D1027</td>\n",
       "      <td>2.0</td>\n",
       "      <td>11</td>\n",
       "      <td>2019-10-28 11:55:00</td>\n",
       "      <td>2019-10-28</td>\n",
       "      <td>0</td>\n",
       "    </tr>\n",
       "    <tr>\n",
       "      <th>11</th>\n",
       "      <td>6063848A990FF4AD</td>\n",
       "      <td>2.0</td>\n",
       "      <td>18</td>\n",
       "      <td>2019-10-28 13:34:00</td>\n",
       "      <td>2019-10-27</td>\n",
       "      <td>1</td>\n",
       "    </tr>\n",
       "    <tr>\n",
       "      <th>16</th>\n",
       "      <td>F84AC26468C9456C</td>\n",
       "      <td>2.0</td>\n",
       "      <td>23</td>\n",
       "      <td>2019-10-29 05:38:00</td>\n",
       "      <td>2019-10-28</td>\n",
       "      <td>1</td>\n",
       "    </tr>\n",
       "    <tr>\n",
       "      <th>4</th>\n",
       "      <td>F498B4A28D85B55B</td>\n",
       "      <td>2.0</td>\n",
       "      <td>14</td>\n",
       "      <td>2019-10-25 07:18:00</td>\n",
       "      <td>2019-10-24</td>\n",
       "      <td>1</td>\n",
       "    </tr>\n",
       "    <tr>\n",
       "      <th>13</th>\n",
       "      <td>FB2CAA0165A99E6E</td>\n",
       "      <td>2.0</td>\n",
       "      <td>17</td>\n",
       "      <td>2019-10-28 14:45:00</td>\n",
       "      <td>2019-10-27</td>\n",
       "      <td>1</td>\n",
       "    </tr>\n",
       "    <tr>\n",
       "      <th>8</th>\n",
       "      <td>4A60072EAA2ECD88</td>\n",
       "      <td>2.0</td>\n",
       "      <td>14</td>\n",
       "      <td>2019-10-29 01:20:00</td>\n",
       "      <td>2019-10-27</td>\n",
       "      <td>2</td>\n",
       "    </tr>\n",
       "    <tr>\n",
       "      <th>22</th>\n",
       "      <td>F760471386212A06</td>\n",
       "      <td>70.0</td>\n",
       "      <td>42</td>\n",
       "      <td>2019-10-30 16:28:00</td>\n",
       "      <td>2019-10-27</td>\n",
       "      <td>3</td>\n",
       "    </tr>\n",
       "    <tr>\n",
       "      <th>6</th>\n",
       "      <td>F498B4A28D85B55B</td>\n",
       "      <td>2.0</td>\n",
       "      <td>27</td>\n",
       "      <td>2019-10-28 09:01:00</td>\n",
       "      <td>2019-10-24</td>\n",
       "      <td>4</td>\n",
       "    </tr>\n",
       "    <tr>\n",
       "      <th>15</th>\n",
       "      <td>F84AC26468C9456C</td>\n",
       "      <td>2.0</td>\n",
       "      <td>44</td>\n",
       "      <td>2019-11-02 05:45:00</td>\n",
       "      <td>2019-10-28</td>\n",
       "      <td>5</td>\n",
       "    </tr>\n",
       "    <tr>\n",
       "      <th>17</th>\n",
       "      <td>C6D5C32899DBD29F</td>\n",
       "      <td>2.0</td>\n",
       "      <td>34</td>\n",
       "      <td>2019-11-05 04:33:00</td>\n",
       "      <td>2019-10-28</td>\n",
       "      <td>8</td>\n",
       "    </tr>\n",
       "    <tr>\n",
       "      <th>20</th>\n",
       "      <td>7E1802D573E16342</td>\n",
       "      <td>2.0</td>\n",
       "      <td>14</td>\n",
       "      <td>2019-11-05 04:59:00</td>\n",
       "      <td>2019-10-28</td>\n",
       "      <td>8</td>\n",
       "    </tr>\n",
       "    <tr>\n",
       "      <th>18</th>\n",
       "      <td>F8F7B22F6C44A222</td>\n",
       "      <td>2.0</td>\n",
       "      <td>54</td>\n",
       "      <td>2019-11-06 15:08:00</td>\n",
       "      <td>2019-10-26</td>\n",
       "      <td>11</td>\n",
       "    </tr>\n",
       "    <tr>\n",
       "      <th>19</th>\n",
       "      <td>B83DAF43CD67F53C</td>\n",
       "      <td>2.0</td>\n",
       "      <td>11</td>\n",
       "      <td>2019-11-09 23:07:00</td>\n",
       "      <td>2019-10-28</td>\n",
       "      <td>12</td>\n",
       "    </tr>\n",
       "    <tr>\n",
       "      <th>7</th>\n",
       "      <td>12A4DFBB5955B028</td>\n",
       "      <td>2.0</td>\n",
       "      <td>59</td>\n",
       "      <td>2019-11-13 12:56:00</td>\n",
       "      <td>2019-10-29</td>\n",
       "      <td>15</td>\n",
       "    </tr>\n",
       "    <tr>\n",
       "      <th>0</th>\n",
       "      <td>38A4BC9A7B4B713F</td>\n",
       "      <td>2.0</td>\n",
       "      <td>53</td>\n",
       "      <td>2019-11-11 12:02:00</td>\n",
       "      <td>2019-10-27</td>\n",
       "      <td>15</td>\n",
       "    </tr>\n",
       "    <tr>\n",
       "      <th>5</th>\n",
       "      <td>F498B4A28D85B55B</td>\n",
       "      <td>20.0</td>\n",
       "      <td>53</td>\n",
       "      <td>2019-11-10 05:46:00</td>\n",
       "      <td>2019-10-24</td>\n",
       "      <td>17</td>\n",
       "    </tr>\n",
       "    <tr>\n",
       "      <th>21</th>\n",
       "      <td>3D11F64617FBA49F</td>\n",
       "      <td>2.0</td>\n",
       "      <td>19</td>\n",
       "      <td>2019-11-17 23:45:00</td>\n",
       "      <td>2019-10-28</td>\n",
       "      <td>20</td>\n",
       "    </tr>\n",
       "    <tr>\n",
       "      <th>3</th>\n",
       "      <td>F498B4A28D85B55B</td>\n",
       "      <td>2.0</td>\n",
       "      <td>58</td>\n",
       "      <td>2019-11-13 14:18:00</td>\n",
       "      <td>2019-10-24</td>\n",
       "      <td>20</td>\n",
       "    </tr>\n",
       "    <tr>\n",
       "      <th>9</th>\n",
       "      <td>4A60072EAA2ECD88</td>\n",
       "      <td>2.0</td>\n",
       "      <td>49</td>\n",
       "      <td>2019-11-16 01:36:00</td>\n",
       "      <td>2019-10-27</td>\n",
       "      <td>20</td>\n",
       "    </tr>\n",
       "  </tbody>\n",
       "</table>\n",
       "</div>"
      ],
      "text/plain": [
       "             user_id  iap_value  current_level           timestamp  \\\n",
       "1   38A4BC9A7B4B713F        2.0             13 2019-10-27 06:28:00   \n",
       "2   2EE0CF20920B3D95       20.0             13 2019-10-29 12:56:00   \n",
       "14  ECC3E3A2FECAA733        2.0             11 2019-10-27 03:30:00   \n",
       "12    CEDBE9F0D13B79        2.0             12 2019-10-27 12:02:00   \n",
       "10  174325D74F4D1027        2.0             11 2019-10-28 11:55:00   \n",
       "11  6063848A990FF4AD        2.0             18 2019-10-28 13:34:00   \n",
       "16  F84AC26468C9456C        2.0             23 2019-10-29 05:38:00   \n",
       "4   F498B4A28D85B55B        2.0             14 2019-10-25 07:18:00   \n",
       "13  FB2CAA0165A99E6E        2.0             17 2019-10-28 14:45:00   \n",
       "8   4A60072EAA2ECD88        2.0             14 2019-10-29 01:20:00   \n",
       "22  F760471386212A06       70.0             42 2019-10-30 16:28:00   \n",
       "6   F498B4A28D85B55B        2.0             27 2019-10-28 09:01:00   \n",
       "15  F84AC26468C9456C        2.0             44 2019-11-02 05:45:00   \n",
       "17  C6D5C32899DBD29F        2.0             34 2019-11-05 04:33:00   \n",
       "20  7E1802D573E16342        2.0             14 2019-11-05 04:59:00   \n",
       "18  F8F7B22F6C44A222        2.0             54 2019-11-06 15:08:00   \n",
       "19  B83DAF43CD67F53C        2.0             11 2019-11-09 23:07:00   \n",
       "7   12A4DFBB5955B028        2.0             59 2019-11-13 12:56:00   \n",
       "0   38A4BC9A7B4B713F        2.0             53 2019-11-11 12:02:00   \n",
       "5   F498B4A28D85B55B       20.0             53 2019-11-10 05:46:00   \n",
       "21  3D11F64617FBA49F        2.0             19 2019-11-17 23:45:00   \n",
       "3   F498B4A28D85B55B        2.0             58 2019-11-13 14:18:00   \n",
       "9   4A60072EAA2ECD88        2.0             49 2019-11-16 01:36:00   \n",
       "\n",
       "   first_play_date  day_number  \n",
       "1       2019-10-27           0  \n",
       "2       2019-10-29           0  \n",
       "14      2019-10-27           0  \n",
       "12      2019-10-27           0  \n",
       "10      2019-10-28           0  \n",
       "11      2019-10-27           1  \n",
       "16      2019-10-28           1  \n",
       "4       2019-10-24           1  \n",
       "13      2019-10-27           1  \n",
       "8       2019-10-27           2  \n",
       "22      2019-10-27           3  \n",
       "6       2019-10-24           4  \n",
       "15      2019-10-28           5  \n",
       "17      2019-10-28           8  \n",
       "20      2019-10-28           8  \n",
       "18      2019-10-26          11  \n",
       "19      2019-10-28          12  \n",
       "7       2019-10-29          15  \n",
       "0       2019-10-27          15  \n",
       "5       2019-10-24          17  \n",
       "21      2019-10-28          20  \n",
       "3       2019-10-24          20  \n",
       "9       2019-10-27          20  "
      ]
     },
     "execution_count": 63,
     "metadata": {},
     "output_type": "execute_result"
    }
   ],
   "source": [
    "payments_A.sort_values(by='day_number')"
   ]
  },
  {
   "cell_type": "code",
   "execution_count": 64,
   "metadata": {},
   "outputs": [
    {
     "data": {
      "text/html": [
       "<div>\n",
       "<style scoped>\n",
       "    .dataframe tbody tr th:only-of-type {\n",
       "        vertical-align: middle;\n",
       "    }\n",
       "\n",
       "    .dataframe tbody tr th {\n",
       "        vertical-align: top;\n",
       "    }\n",
       "\n",
       "    .dataframe thead th {\n",
       "        text-align: right;\n",
       "    }\n",
       "</style>\n",
       "<table border=\"1\" class=\"dataframe\">\n",
       "  <thead>\n",
       "    <tr style=\"text-align: right;\">\n",
       "      <th></th>\n",
       "      <th>user_id</th>\n",
       "      <th>iap_value</th>\n",
       "      <th>current_level</th>\n",
       "      <th>timestamp</th>\n",
       "      <th>first_play_date</th>\n",
       "      <th>day_number</th>\n",
       "    </tr>\n",
       "  </thead>\n",
       "  <tbody>\n",
       "    <tr>\n",
       "      <th>7</th>\n",
       "      <td>6DFE85E2C4214A11</td>\n",
       "      <td>2.0</td>\n",
       "      <td>17</td>\n",
       "      <td>2019-11-05 02:54:00</td>\n",
       "      <td>2019-11-05</td>\n",
       "      <td>0</td>\n",
       "    </tr>\n",
       "    <tr>\n",
       "      <th>1</th>\n",
       "      <td>702A40AFF47424DE</td>\n",
       "      <td>2.0</td>\n",
       "      <td>17</td>\n",
       "      <td>2019-11-06 03:07:00</td>\n",
       "      <td>2019-11-05</td>\n",
       "      <td>1</td>\n",
       "    </tr>\n",
       "    <tr>\n",
       "      <th>4</th>\n",
       "      <td>C6B4DECDACA94763</td>\n",
       "      <td>2.0</td>\n",
       "      <td>18</td>\n",
       "      <td>2019-11-07 04:41:00</td>\n",
       "      <td>2019-11-06</td>\n",
       "      <td>1</td>\n",
       "    </tr>\n",
       "    <tr>\n",
       "      <th>6</th>\n",
       "      <td>761E883034F489EF</td>\n",
       "      <td>2.0</td>\n",
       "      <td>17</td>\n",
       "      <td>2019-11-07 04:02:00</td>\n",
       "      <td>2019-11-06</td>\n",
       "      <td>1</td>\n",
       "    </tr>\n",
       "    <tr>\n",
       "      <th>10</th>\n",
       "      <td>2062F9CB71AD1AFB</td>\n",
       "      <td>2.0</td>\n",
       "      <td>30</td>\n",
       "      <td>2019-11-06 19:28:00</td>\n",
       "      <td>2019-11-05</td>\n",
       "      <td>1</td>\n",
       "    </tr>\n",
       "    <tr>\n",
       "      <th>14</th>\n",
       "      <td>665F25509C350C7D</td>\n",
       "      <td>2.0</td>\n",
       "      <td>34</td>\n",
       "      <td>2019-11-10 21:35:00</td>\n",
       "      <td>2019-11-09</td>\n",
       "      <td>1</td>\n",
       "    </tr>\n",
       "    <tr>\n",
       "      <th>3</th>\n",
       "      <td>A170368B6F3C2464</td>\n",
       "      <td>2.0</td>\n",
       "      <td>40</td>\n",
       "      <td>2019-11-07 07:08:00</td>\n",
       "      <td>2019-11-05</td>\n",
       "      <td>2</td>\n",
       "    </tr>\n",
       "    <tr>\n",
       "      <th>13</th>\n",
       "      <td>C384546AE46F488B</td>\n",
       "      <td>2.0</td>\n",
       "      <td>44</td>\n",
       "      <td>2019-11-11 02:15:00</td>\n",
       "      <td>2019-11-09</td>\n",
       "      <td>2</td>\n",
       "    </tr>\n",
       "    <tr>\n",
       "      <th>5</th>\n",
       "      <td>24B12AC49BDE9518</td>\n",
       "      <td>2.0</td>\n",
       "      <td>43</td>\n",
       "      <td>2019-11-10 12:36:00</td>\n",
       "      <td>2019-11-06</td>\n",
       "      <td>4</td>\n",
       "    </tr>\n",
       "    <tr>\n",
       "      <th>11</th>\n",
       "      <td>2062F9CB71AD1AFB</td>\n",
       "      <td>2.0</td>\n",
       "      <td>45</td>\n",
       "      <td>2019-11-09 05:32:00</td>\n",
       "      <td>2019-11-05</td>\n",
       "      <td>4</td>\n",
       "    </tr>\n",
       "    <tr>\n",
       "      <th>8</th>\n",
       "      <td>B9AB38CED8FD4ECA</td>\n",
       "      <td>20.0</td>\n",
       "      <td>42</td>\n",
       "      <td>2019-11-11 13:56:00</td>\n",
       "      <td>2019-11-06</td>\n",
       "      <td>5</td>\n",
       "    </tr>\n",
       "    <tr>\n",
       "      <th>15</th>\n",
       "      <td>30465FEC33708584</td>\n",
       "      <td>2.0</td>\n",
       "      <td>48</td>\n",
       "      <td>2019-11-12 04:12:00</td>\n",
       "      <td>2019-11-06</td>\n",
       "      <td>6</td>\n",
       "    </tr>\n",
       "    <tr>\n",
       "      <th>0</th>\n",
       "      <td>1BDC39850B0EA9F7</td>\n",
       "      <td>2.0</td>\n",
       "      <td>44</td>\n",
       "      <td>2019-11-13 11:33:00</td>\n",
       "      <td>2019-11-06</td>\n",
       "      <td>7</td>\n",
       "    </tr>\n",
       "    <tr>\n",
       "      <th>9</th>\n",
       "      <td>B9AB38CED8FD4ECA</td>\n",
       "      <td>2.0</td>\n",
       "      <td>53</td>\n",
       "      <td>2019-11-13 07:56:00</td>\n",
       "      <td>2019-11-06</td>\n",
       "      <td>7</td>\n",
       "    </tr>\n",
       "    <tr>\n",
       "      <th>12</th>\n",
       "      <td>D439862C1A2171D6</td>\n",
       "      <td>2.0</td>\n",
       "      <td>16</td>\n",
       "      <td>2019-11-16 10:51:00</td>\n",
       "      <td>2019-11-06</td>\n",
       "      <td>10</td>\n",
       "    </tr>\n",
       "    <tr>\n",
       "      <th>2</th>\n",
       "      <td>D803808F3FB23574</td>\n",
       "      <td>2.0</td>\n",
       "      <td>55</td>\n",
       "      <td>2019-11-17 07:12:00</td>\n",
       "      <td>2019-11-06</td>\n",
       "      <td>11</td>\n",
       "    </tr>\n",
       "  </tbody>\n",
       "</table>\n",
       "</div>"
      ],
      "text/plain": [
       "             user_id  iap_value  current_level           timestamp  \\\n",
       "7   6DFE85E2C4214A11        2.0             17 2019-11-05 02:54:00   \n",
       "1   702A40AFF47424DE        2.0             17 2019-11-06 03:07:00   \n",
       "4   C6B4DECDACA94763        2.0             18 2019-11-07 04:41:00   \n",
       "6   761E883034F489EF        2.0             17 2019-11-07 04:02:00   \n",
       "10  2062F9CB71AD1AFB        2.0             30 2019-11-06 19:28:00   \n",
       "14  665F25509C350C7D        2.0             34 2019-11-10 21:35:00   \n",
       "3   A170368B6F3C2464        2.0             40 2019-11-07 07:08:00   \n",
       "13  C384546AE46F488B        2.0             44 2019-11-11 02:15:00   \n",
       "5   24B12AC49BDE9518        2.0             43 2019-11-10 12:36:00   \n",
       "11  2062F9CB71AD1AFB        2.0             45 2019-11-09 05:32:00   \n",
       "8   B9AB38CED8FD4ECA       20.0             42 2019-11-11 13:56:00   \n",
       "15  30465FEC33708584        2.0             48 2019-11-12 04:12:00   \n",
       "0   1BDC39850B0EA9F7        2.0             44 2019-11-13 11:33:00   \n",
       "9   B9AB38CED8FD4ECA        2.0             53 2019-11-13 07:56:00   \n",
       "12  D439862C1A2171D6        2.0             16 2019-11-16 10:51:00   \n",
       "2   D803808F3FB23574        2.0             55 2019-11-17 07:12:00   \n",
       "\n",
       "   first_play_date  day_number  \n",
       "7       2019-11-05           0  \n",
       "1       2019-11-05           1  \n",
       "4       2019-11-06           1  \n",
       "6       2019-11-06           1  \n",
       "10      2019-11-05           1  \n",
       "14      2019-11-09           1  \n",
       "3       2019-11-05           2  \n",
       "13      2019-11-09           2  \n",
       "5       2019-11-06           4  \n",
       "11      2019-11-05           4  \n",
       "8       2019-11-06           5  \n",
       "15      2019-11-06           6  \n",
       "0       2019-11-06           7  \n",
       "9       2019-11-06           7  \n",
       "12      2019-11-06          10  \n",
       "2       2019-11-06          11  "
      ]
     },
     "execution_count": 64,
     "metadata": {},
     "output_type": "execute_result"
    }
   ],
   "source": [
    "payments_B.sort_values(by='day_number')"
   ]
  },
  {
   "cell_type": "code",
   "execution_count": null,
   "metadata": {},
   "outputs": [],
   "source": []
  }
 ],
 "metadata": {
  "kernelspec": {
   "display_name": "Python 3",
   "language": "python",
   "name": "python3"
  },
  "language_info": {
   "codemirror_mode": {
    "name": "ipython",
    "version": 3
   },
   "file_extension": ".py",
   "mimetype": "text/x-python",
   "name": "python",
   "nbconvert_exporter": "python",
   "pygments_lexer": "ipython3",
   "version": "3.7.4"
  }
 },
 "nbformat": 4,
 "nbformat_minor": 2
}
